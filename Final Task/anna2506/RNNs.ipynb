{
 "cells": [
  {
   "cell_type": "markdown",
   "metadata": {},
   "source": [
    "# Задание 6: Рекуррентные нейронные сети (RNNs)\n",
    "\n",
    "Это задание адаптиповано из Deep NLP Course at ABBYY (https://github.com/DanAnastasyev/DeepNLP-Course) с разрешения автора - Даниила Анастасьева. Спасибо ему огромное!"
   ]
  },
  {
   "cell_type": "code",
   "execution_count": null,
   "metadata": {
    "colab": {},
    "colab_type": "code",
    "id": "P59NYU98GCb9"
   },
   "outputs": [],
   "source": [
    "!pip3 -qq install torch==0.4.1\n",
    "!pip3 -qq install bokeh==0.13.0\n",
    "!pip3 -qq install gensim==3.6.0\n",
    "!pip3 -qq install nltk\n",
    "!pip3 -qq install scikit-learn==0.20.2"
   ]
  },
  {
   "cell_type": "code",
   "execution_count": 1,
   "metadata": {
    "colab": {},
    "colab_type": "code",
    "id": "8sVtGHmA9aBM"
   },
   "outputs": [],
   "source": [
    "import numpy as np\n",
    "\n",
    "import torch\n",
    "import torch.nn as nn\n",
    "import torch.nn.functional as F\n",
    "import torch.optim as optim\n",
    "\n",
    "\n",
    "if torch.cuda.is_available():\n",
    "    from torch.cuda import FloatTensor, LongTensor\n",
    "else:\n",
    "    from torch import FloatTensor, LongTensor\n",
    "\n",
    "np.random.seed(42)"
   ]
  },
  {
   "cell_type": "markdown",
   "metadata": {
    "colab_type": "text",
    "id": "-6CNKM3b4hT1"
   },
   "source": [
    "# Рекуррентные нейронные сети (RNNs)"
   ]
  },
  {
   "cell_type": "markdown",
   "metadata": {
    "colab_type": "text",
    "id": "O_XkoGNQUeGm"
   },
   "source": [
    "## POS Tagging"
   ]
  },
  {
   "cell_type": "markdown",
   "metadata": {
    "colab_type": "text",
    "id": "QFEtWrS_4rUs"
   },
   "source": [
    "Мы рассмотрим применение рекуррентных сетей к задаче sequence labeling (последняя картинка).\n",
    "\n",
    "![RNN types](http://karpathy.github.io/assets/rnn/diags.jpeg)\n",
    "\n",
    "*From [The Unreasonable Effectiveness of Recurrent Neural Networks](http://karpathy.github.io/2015/05/21/rnn-effectiveness/)*\n",
    "\n",
    "Самые популярные примеры для такой постановки задачи - Part-of-Speech Tagging и Named Entity Recognition.\n",
    "\n",
    "Мы порешаем сейчас POS Tagging для английского.\n",
    "\n",
    "Будем работать с таким набором тегов:\n",
    "- ADJ - adjective (new, good, high, ...)\n",
    "- ADP - adposition (on, of, at, ...)\n",
    "- ADV - adverb (really, already, still, ...)\n",
    "- CONJ - conjunction (and, or, but, ...)\n",
    "- DET - determiner, article (the, a, some, ...)\n",
    "- NOUN - noun (year, home, costs, ...)\n",
    "- NUM - numeral (twenty-four, fourth, 1991, ...)\n",
    "- PRT - particle (at, on, out, ...)\n",
    "- PRON - pronoun (he, their, her, ...)\n",
    "- VERB - verb (is, say, told, ...)\n",
    "- . - punctuation marks (. , ;)\n",
    "- X - other (ersatz, esprit, dunno, ...)"
   ]
  },
  {
   "cell_type": "markdown",
   "metadata": {
    "colab_type": "text",
    "id": "EPIkKdFlHB-X"
   },
   "source": [
    "Скачаем данные:"
   ]
  },
  {
   "cell_type": "code",
   "execution_count": 2,
   "metadata": {
    "colab": {},
    "colab_type": "code",
    "id": "TiA2dGmgF1rW"
   },
   "outputs": [
    {
     "output_type": "stream",
     "name": "stderr",
     "text": "[nltk_data] Downloading package brown to\n[nltk_data]     C:\\Users\\Анна\\AppData\\Roaming\\nltk_data...\n[nltk_data]   Package brown is already up-to-date!\n[nltk_data] Downloading package universal_tagset to\n[nltk_data]     C:\\Users\\Анна\\AppData\\Roaming\\nltk_data...\n[nltk_data]   Package universal_tagset is already up-to-date!\n"
    }
   ],
   "source": [
    "import nltk\n",
    "from sklearn.model_selection import train_test_split\n",
    "\n",
    "nltk.download('brown')\n",
    "nltk.download('universal_tagset')\n",
    "\n",
    "data = nltk.corpus.brown.tagged_sents(tagset='universal')"
   ]
  },
  {
   "cell_type": "markdown",
   "metadata": {
    "colab_type": "text",
    "id": "d93g_swyJA_V"
   },
   "source": [
    "Пример размеченного предложения:"
   ]
  },
  {
   "cell_type": "code",
   "execution_count": 3,
   "metadata": {
    "colab": {},
    "colab_type": "code",
    "id": "QstS4NO0L97c"
   },
   "outputs": [
    {
     "output_type": "stream",
     "name": "stdout",
     "text": "The            \tDET\nFulton         \tNOUN\nCounty         \tNOUN\nGrand          \tADJ\nJury           \tNOUN\nsaid           \tVERB\nFriday         \tNOUN\nan             \tDET\ninvestigation  \tNOUN\nof             \tADP\nAtlanta's      \tNOUN\nrecent         \tADJ\nprimary        \tNOUN\nelection       \tNOUN\nproduced       \tVERB\n``             \t.\nno             \tDET\nevidence       \tNOUN\n''             \t.\nthat           \tADP\nany            \tDET\nirregularities \tNOUN\ntook           \tVERB\nplace          \tNOUN\n.              \t.\n"
    }
   ],
   "source": [
    "for word, tag in data[0]:\n",
    "    print('{:15}\\t{}'.format(word, tag))"
   ]
  },
  {
   "cell_type": "markdown",
   "metadata": {
    "colab_type": "text",
    "id": "epdW8u_YXcAv"
   },
   "source": [
    "Построим разбиение на train/val/test - наконец-то, всё как у нормальных людей.\n",
    "\n",
    "На train будем учиться, по val - подбирать параметры и делать всякие early stopping, а на test - принимать модель по ее финальному качеству."
   ]
  },
  {
   "cell_type": "code",
   "execution_count": 4,
   "metadata": {
    "colab": {},
    "colab_type": "code",
    "id": "xTai8Ta0lgwL"
   },
   "outputs": [
    {
     "output_type": "stream",
     "name": "stdout",
     "text": "Words count in train set:739769\nWords count in val set:130954\nWords count in test set:290469\n"
    }
   ],
   "source": [
    "train_data, test_data = train_test_split(data, test_size=0.25, random_state=42)\n",
    "train_data, val_data = train_test_split(train_data, test_size=0.15, random_state=42)\n",
    "\n",
    "print('Words count in train set:', sum(len(sent) for sent in train_data))\n",
    "print('Words count in val set:', sum(len(sent) for sent in val_data))\n",
    "print('Words count in test set:', sum(len(sent) for sent in test_data))"
   ]
  },
  {
   "cell_type": "markdown",
   "metadata": {
    "colab_type": "text",
    "id": "eChdLNGtXyP0"
   },
   "source": [
    "Построим маппинги из слов в индекс и из тега в индекс:\n"
   ]
  },
  {
   "cell_type": "code",
   "execution_count": 5,
   "metadata": {
    "colab": {},
    "colab_type": "code",
    "id": "pCjwwDs6Zq9x"
   },
   "outputs": [
    {
     "output_type": "stream",
     "name": "stdout",
     "text": "Unique words in train = 45441. Tags = {'NOUN', 'DET', 'NUM', 'ADJ', '.', 'ADV', 'X', 'PRON', 'CONJ', 'PRT', 'ADP', 'VERB'}\n"
    }
   ],
   "source": [
    "words = {word for sample in train_data for word, tag in sample}\n",
    "word2ind = {word: ind + 1 for ind, word in enumerate(words)}\n",
    "word2ind['<pad>'] = 0\n",
    "\n",
    "tags = {tag for sample in train_data for word, tag in sample}\n",
    "tag2ind = {tag: ind + 1 for ind, tag in enumerate(tags)}\n",
    "tag2ind['<pad>'] = 0\n",
    "\n",
    "print('Unique words in train = {}. Tags = {}'.format(len(word2ind), tags))"
   ]
  },
  {
   "cell_type": "code",
   "execution_count": 6,
   "metadata": {
    "colab": {},
    "colab_type": "code",
    "id": "URC1B2nvPGFt"
   },
   "outputs": [
    {
     "output_type": "display_data",
     "data": {
      "text/plain": "<Figure size 720x360 with 1 Axes>",
      "image/svg+xml": "<?xml version=\"1.0\" encoding=\"utf-8\" standalone=\"no\"?>\r\n<!DOCTYPE svg PUBLIC \"-//W3C//DTD SVG 1.1//EN\"\r\n  \"http://www.w3.org/Graphics/SVG/1.1/DTD/svg11.dtd\">\r\n<!-- Created with matplotlib (https://matplotlib.org/) -->\r\n<svg height=\"302.878125pt\" version=\"1.1\" viewBox=\"0 0 617.575 302.878125\" width=\"617.575pt\" xmlns=\"http://www.w3.org/2000/svg\" xmlns:xlink=\"http://www.w3.org/1999/xlink\">\r\n <defs>\r\n  <style type=\"text/css\">\r\n*{stroke-linecap:butt;stroke-linejoin:round;}\r\n  </style>\r\n </defs>\r\n <g id=\"figure_1\">\r\n  <g id=\"patch_1\">\r\n   <path d=\"M 0 302.878125 \r\nL 617.575 302.878125 \r\nL 617.575 0 \r\nL 0 0 \r\nz\r\n\" style=\"fill:none;\"/>\r\n  </g>\r\n  <g id=\"axes_1\">\r\n   <g id=\"patch_2\">\r\n    <path d=\"M 52.375 279 \r\nL 610.375 279 \r\nL 610.375 7.2 \r\nL 52.375 7.2 \r\nz\r\n\" style=\"fill:#ffffff;\"/>\r\n   </g>\r\n   <g id=\"patch_3\">\r\n    <path clip-path=\"url(#pb4df2af1a1)\" d=\"M 77.738636 279 \r\nL 93.381408 279 \r\nL 93.381408 20.142857 \r\nL 77.738636 20.142857 \r\nz\r\n\" style=\"fill:#1f77b4;opacity:0.5;\"/>\r\n   </g>\r\n   <g id=\"patch_4\">\r\n    <path clip-path=\"url(#pb4df2af1a1)\" d=\"M 122.432269 279 \r\nL 138.07504 279 \r\nL 138.07504 150.865243 \r\nL 122.432269 150.865243 \r\nz\r\n\" style=\"fill:#1f77b4;opacity:0.5;\"/>\r\n   </g>\r\n   <g id=\"patch_5\">\r\n    <path clip-path=\"url(#pb4df2af1a1)\" d=\"M 167.125901 279 \r\nL 182.768672 279 \r\nL 182.768672 264.826988 \r\nL 167.125901 264.826988 \r\nz\r\n\" style=\"fill:#1f77b4;opacity:0.5;\"/>\r\n   </g>\r\n   <g id=\"patch_6\">\r\n    <path clip-path=\"url(#pb4df2af1a1)\" d=\"M 211.819533 279 \r\nL 227.462305 279 \r\nL 227.462305 200.629933 \r\nL 211.819533 200.629933 \r\nz\r\n\" style=\"fill:#1f77b4;opacity:0.5;\"/>\r\n   </g>\r\n   <g id=\"patch_7\">\r\n    <path clip-path=\"url(#pb4df2af1a1)\" d=\"M 256.513166 279 \r\nL 272.155937 279 \r\nL 272.155937 140.261272 \r\nL 256.513166 140.261272 \r\nz\r\n\" style=\"fill:#1f77b4;opacity:0.5;\"/>\r\n   </g>\r\n   <g id=\"patch_8\">\r\n    <path clip-path=\"url(#pb4df2af1a1)\" d=\"M 301.206798 279 \r\nL 316.849569 279 \r\nL 316.849569 226.235075 \r\nL 301.206798 226.235075 \r\nz\r\n\" style=\"fill:#1f77b4;opacity:0.5;\"/>\r\n   </g>\r\n   <g id=\"patch_9\">\r\n    <path clip-path=\"url(#pb4df2af1a1)\" d=\"M 345.900431 279 \r\nL 361.543202 279 \r\nL 361.543202 277.781339 \r\nL 345.900431 277.781339 \r\nz\r\n\" style=\"fill:#1f77b4;opacity:0.5;\"/>\r\n   </g>\r\n   <g id=\"patch_10\">\r\n    <path clip-path=\"url(#pb4df2af1a1)\" d=\"M 390.594063 279 \r\nL 406.236834 279 \r\nL 406.236834 232.788141 \r\nL 390.594063 232.788141 \r\nz\r\n\" style=\"fill:#1f77b4;opacity:0.5;\"/>\r\n   </g>\r\n   <g id=\"patch_11\">\r\n    <path clip-path=\"url(#pb4df2af1a1)\" d=\"M 435.287695 279 \r\nL 450.930467 279 \r\nL 450.930467 242.858672 \r\nL 435.287695 242.858672 \r\nz\r\n\" style=\"fill:#1f77b4;opacity:0.5;\"/>\r\n   </g>\r\n   <g id=\"patch_12\">\r\n    <path clip-path=\"url(#pb4df2af1a1)\" d=\"M 479.981328 279 \r\nL 495.624099 279 \r\nL 495.624099 250.723235 \r\nL 479.981328 250.723235 \r\nz\r\n\" style=\"fill:#1f77b4;opacity:0.5;\"/>\r\n   </g>\r\n   <g id=\"patch_13\">\r\n    <path clip-path=\"url(#pb4df2af1a1)\" d=\"M 524.67496 279 \r\nL 540.317731 279 \r\nL 540.317731 143.142145 \r\nL 524.67496 143.142145 \r\nz\r\n\" style=\"fill:#1f77b4;opacity:0.5;\"/>\r\n   </g>\r\n   <g id=\"patch_14\">\r\n    <path clip-path=\"url(#pb4df2af1a1)\" d=\"M 569.368592 279 \r\nL 585.011364 279 \r\nL 585.011364 107.627093 \r\nL 569.368592 107.627093 \r\nz\r\n\" style=\"fill:#1f77b4;opacity:0.5;\"/>\r\n   </g>\r\n   <g id=\"matplotlib.axis_1\">\r\n    <g id=\"xtick_1\">\r\n     <g id=\"line2d_1\">\r\n      <defs>\r\n       <path d=\"M 0 0 \r\nL 0 3.5 \r\n\" id=\"m9a68336bb3\" style=\"stroke:#000000;stroke-width:0.8;\"/>\r\n      </defs>\r\n      <g>\r\n       <use style=\"stroke:#000000;stroke-width:0.8;\" x=\"85.560022\" xlink:href=\"#m9a68336bb3\" y=\"279\"/>\r\n      </g>\r\n     </g>\r\n     <g id=\"text_1\">\r\n      <!-- NOUN -->\r\n      <defs>\r\n       <path d=\"M 9.8125 72.90625 \r\nL 23.09375 72.90625 \r\nL 55.421875 11.921875 \r\nL 55.421875 72.90625 \r\nL 64.984375 72.90625 \r\nL 64.984375 0 \r\nL 51.703125 0 \r\nL 19.390625 60.984375 \r\nL 19.390625 0 \r\nL 9.8125 0 \r\nz\r\n\" id=\"DejaVuSans-78\"/>\r\n       <path d=\"M 39.40625 66.21875 \r\nQ 28.65625 66.21875 22.328125 58.203125 \r\nQ 16.015625 50.203125 16.015625 36.375 \r\nQ 16.015625 22.609375 22.328125 14.59375 \r\nQ 28.65625 6.59375 39.40625 6.59375 \r\nQ 50.140625 6.59375 56.421875 14.59375 \r\nQ 62.703125 22.609375 62.703125 36.375 \r\nQ 62.703125 50.203125 56.421875 58.203125 \r\nQ 50.140625 66.21875 39.40625 66.21875 \r\nz\r\nM 39.40625 74.21875 \r\nQ 54.734375 74.21875 63.90625 63.9375 \r\nQ 73.09375 53.65625 73.09375 36.375 \r\nQ 73.09375 19.140625 63.90625 8.859375 \r\nQ 54.734375 -1.421875 39.40625 -1.421875 \r\nQ 24.03125 -1.421875 14.8125 8.828125 \r\nQ 5.609375 19.09375 5.609375 36.375 \r\nQ 5.609375 53.65625 14.8125 63.9375 \r\nQ 24.03125 74.21875 39.40625 74.21875 \r\nz\r\n\" id=\"DejaVuSans-79\"/>\r\n       <path d=\"M 8.6875 72.90625 \r\nL 18.609375 72.90625 \r\nL 18.609375 28.609375 \r\nQ 18.609375 16.890625 22.84375 11.734375 \r\nQ 27.09375 6.59375 36.625 6.59375 \r\nQ 46.09375 6.59375 50.34375 11.734375 \r\nQ 54.59375 16.890625 54.59375 28.609375 \r\nL 54.59375 72.90625 \r\nL 64.5 72.90625 \r\nL 64.5 27.390625 \r\nQ 64.5 13.140625 57.4375 5.859375 \r\nQ 50.390625 -1.421875 36.625 -1.421875 \r\nQ 22.796875 -1.421875 15.734375 5.859375 \r\nQ 8.6875 13.140625 8.6875 27.390625 \r\nz\r\n\" id=\"DejaVuSans-85\"/>\r\n      </defs>\r\n      <g transform=\"translate(70.48346 293.598437)scale(0.1 -0.1)\">\r\n       <use xlink:href=\"#DejaVuSans-78\"/>\r\n       <use x=\"74.804688\" xlink:href=\"#DejaVuSans-79\"/>\r\n       <use x=\"153.515625\" xlink:href=\"#DejaVuSans-85\"/>\r\n       <use x=\"226.708984\" xlink:href=\"#DejaVuSans-78\"/>\r\n      </g>\r\n     </g>\r\n    </g>\r\n    <g id=\"xtick_2\">\r\n     <g id=\"line2d_2\">\r\n      <g>\r\n       <use style=\"stroke:#000000;stroke-width:0.8;\" x=\"130.253654\" xlink:href=\"#m9a68336bb3\" y=\"279\"/>\r\n      </g>\r\n     </g>\r\n     <g id=\"text_2\">\r\n      <!-- DET -->\r\n      <defs>\r\n       <path d=\"M 19.671875 64.796875 \r\nL 19.671875 8.109375 \r\nL 31.59375 8.109375 \r\nQ 46.6875 8.109375 53.6875 14.9375 \r\nQ 60.6875 21.78125 60.6875 36.53125 \r\nQ 60.6875 51.171875 53.6875 57.984375 \r\nQ 46.6875 64.796875 31.59375 64.796875 \r\nz\r\nM 9.8125 72.90625 \r\nL 30.078125 72.90625 \r\nQ 51.265625 72.90625 61.171875 64.09375 \r\nQ 71.09375 55.28125 71.09375 36.53125 \r\nQ 71.09375 17.671875 61.125 8.828125 \r\nQ 51.171875 0 30.078125 0 \r\nL 9.8125 0 \r\nz\r\n\" id=\"DejaVuSans-68\"/>\r\n       <path d=\"M 9.8125 72.90625 \r\nL 55.90625 72.90625 \r\nL 55.90625 64.59375 \r\nL 19.671875 64.59375 \r\nL 19.671875 43.015625 \r\nL 54.390625 43.015625 \r\nL 54.390625 34.71875 \r\nL 19.671875 34.71875 \r\nL 19.671875 8.296875 \r\nL 56.78125 8.296875 \r\nL 56.78125 0 \r\nL 9.8125 0 \r\nz\r\n\" id=\"DejaVuSans-69\"/>\r\n       <path d=\"M -0.296875 72.90625 \r\nL 61.375 72.90625 \r\nL 61.375 64.59375 \r\nL 35.5 64.59375 \r\nL 35.5 0 \r\nL 25.59375 0 \r\nL 25.59375 64.59375 \r\nL -0.296875 64.59375 \r\nz\r\n\" id=\"DejaVuSans-84\"/>\r\n      </defs>\r\n      <g transform=\"translate(120.190373 293.598437)scale(0.1 -0.1)\">\r\n       <use xlink:href=\"#DejaVuSans-68\"/>\r\n       <use x=\"77.001953\" xlink:href=\"#DejaVuSans-69\"/>\r\n       <use x=\"140.185547\" xlink:href=\"#DejaVuSans-84\"/>\r\n      </g>\r\n     </g>\r\n    </g>\r\n    <g id=\"xtick_3\">\r\n     <g id=\"line2d_3\">\r\n      <g>\r\n       <use style=\"stroke:#000000;stroke-width:0.8;\" x=\"174.947287\" xlink:href=\"#m9a68336bb3\" y=\"279\"/>\r\n      </g>\r\n     </g>\r\n     <g id=\"text_3\">\r\n      <!-- NUM -->\r\n      <defs>\r\n       <path d=\"M 9.8125 72.90625 \r\nL 24.515625 72.90625 \r\nL 43.109375 23.296875 \r\nL 61.8125 72.90625 \r\nL 76.515625 72.90625 \r\nL 76.515625 0 \r\nL 66.890625 0 \r\nL 66.890625 64.015625 \r\nL 48.09375 14.015625 \r\nL 38.1875 14.015625 \r\nL 19.390625 64.015625 \r\nL 19.390625 0 \r\nL 9.8125 0 \r\nz\r\n\" id=\"DejaVuSans-77\"/>\r\n      </defs>\r\n      <g transform=\"translate(163.233224 293.598437)scale(0.1 -0.1)\">\r\n       <use xlink:href=\"#DejaVuSans-78\"/>\r\n       <use x=\"74.804688\" xlink:href=\"#DejaVuSans-85\"/>\r\n       <use x=\"147.998047\" xlink:href=\"#DejaVuSans-77\"/>\r\n      </g>\r\n     </g>\r\n    </g>\r\n    <g id=\"xtick_4\">\r\n     <g id=\"line2d_4\">\r\n      <g>\r\n       <use style=\"stroke:#000000;stroke-width:0.8;\" x=\"219.640919\" xlink:href=\"#m9a68336bb3\" y=\"279\"/>\r\n      </g>\r\n     </g>\r\n     <g id=\"text_4\">\r\n      <!-- ADJ -->\r\n      <defs>\r\n       <path d=\"M 34.1875 63.1875 \r\nL 20.796875 26.90625 \r\nL 47.609375 26.90625 \r\nz\r\nM 28.609375 72.90625 \r\nL 39.796875 72.90625 \r\nL 67.578125 0 \r\nL 57.328125 0 \r\nL 50.6875 18.703125 \r\nL 17.828125 18.703125 \r\nL 11.1875 0 \r\nL 0.78125 0 \r\nz\r\n\" id=\"DejaVuSans-65\"/>\r\n       <path d=\"M 9.8125 72.90625 \r\nL 19.671875 72.90625 \r\nL 19.671875 5.078125 \r\nQ 19.671875 -8.109375 14.671875 -14.0625 \r\nQ 9.671875 -20.015625 -1.421875 -20.015625 \r\nL -5.171875 -20.015625 \r\nL -5.171875 -11.71875 \r\nL -2.09375 -11.71875 \r\nQ 4.4375 -11.71875 7.125 -8.046875 \r\nQ 9.8125 -4.390625 9.8125 5.078125 \r\nz\r\n\" id=\"DejaVuSans-74\"/>\r\n      </defs>\r\n      <g transform=\"translate(210.895607 293.598437)scale(0.1 -0.1)\">\r\n       <use xlink:href=\"#DejaVuSans-65\"/>\r\n       <use x=\"68.408203\" xlink:href=\"#DejaVuSans-68\"/>\r\n       <use x=\"145.410156\" xlink:href=\"#DejaVuSans-74\"/>\r\n      </g>\r\n     </g>\r\n    </g>\r\n    <g id=\"xtick_5\">\r\n     <g id=\"line2d_5\">\r\n      <g>\r\n       <use style=\"stroke:#000000;stroke-width:0.8;\" x=\"264.334551\" xlink:href=\"#m9a68336bb3\" y=\"279\"/>\r\n      </g>\r\n     </g>\r\n     <g id=\"text_5\">\r\n      <!-- . -->\r\n      <defs>\r\n       <path d=\"M 10.6875 12.40625 \r\nL 21 12.40625 \r\nL 21 0 \r\nL 10.6875 0 \r\nz\r\n\" id=\"DejaVuSans-46\"/>\r\n      </defs>\r\n      <g transform=\"translate(262.745489 293.598437)scale(0.1 -0.1)\">\r\n       <use xlink:href=\"#DejaVuSans-46\"/>\r\n      </g>\r\n     </g>\r\n    </g>\r\n    <g id=\"xtick_6\">\r\n     <g id=\"line2d_6\">\r\n      <g>\r\n       <use style=\"stroke:#000000;stroke-width:0.8;\" x=\"309.028184\" xlink:href=\"#m9a68336bb3\" y=\"279\"/>\r\n      </g>\r\n     </g>\r\n     <g id=\"text_6\">\r\n      <!-- ADV -->\r\n      <defs>\r\n       <path d=\"M 28.609375 0 \r\nL 0.78125 72.90625 \r\nL 11.078125 72.90625 \r\nL 34.1875 11.53125 \r\nL 57.328125 72.90625 \r\nL 67.578125 72.90625 \r\nL 39.796875 0 \r\nz\r\n\" id=\"DejaVuSans-86\"/>\r\n      </defs>\r\n      <g transform=\"translate(298.425059 293.598437)scale(0.1 -0.1)\">\r\n       <use xlink:href=\"#DejaVuSans-65\"/>\r\n       <use x=\"68.408203\" xlink:href=\"#DejaVuSans-68\"/>\r\n       <use x=\"143.660156\" xlink:href=\"#DejaVuSans-86\"/>\r\n      </g>\r\n     </g>\r\n    </g>\r\n    <g id=\"xtick_7\">\r\n     <g id=\"line2d_7\">\r\n      <g>\r\n       <use style=\"stroke:#000000;stroke-width:0.8;\" x=\"353.721816\" xlink:href=\"#m9a68336bb3\" y=\"279\"/>\r\n      </g>\r\n     </g>\r\n     <g id=\"text_7\">\r\n      <!-- X -->\r\n      <defs>\r\n       <path d=\"M 6.296875 72.90625 \r\nL 16.890625 72.90625 \r\nL 35.015625 45.796875 \r\nL 53.21875 72.90625 \r\nL 63.8125 72.90625 \r\nL 40.375 37.890625 \r\nL 65.375 0 \r\nL 54.78125 0 \r\nL 34.28125 31 \r\nL 13.625 0 \r\nL 2.984375 0 \r\nL 29 38.921875 \r\nz\r\n\" id=\"DejaVuSans-88\"/>\r\n      </defs>\r\n      <g transform=\"translate(350.296816 293.598437)scale(0.1 -0.1)\">\r\n       <use xlink:href=\"#DejaVuSans-88\"/>\r\n      </g>\r\n     </g>\r\n    </g>\r\n    <g id=\"xtick_8\">\r\n     <g id=\"line2d_8\">\r\n      <g>\r\n       <use style=\"stroke:#000000;stroke-width:0.8;\" x=\"398.415449\" xlink:href=\"#m9a68336bb3\" y=\"279\"/>\r\n      </g>\r\n     </g>\r\n     <g id=\"text_8\">\r\n      <!-- PRON -->\r\n      <defs>\r\n       <path d=\"M 19.671875 64.796875 \r\nL 19.671875 37.40625 \r\nL 32.078125 37.40625 \r\nQ 38.96875 37.40625 42.71875 40.96875 \r\nQ 46.484375 44.53125 46.484375 51.125 \r\nQ 46.484375 57.671875 42.71875 61.234375 \r\nQ 38.96875 64.796875 32.078125 64.796875 \r\nz\r\nM 9.8125 72.90625 \r\nL 32.078125 72.90625 \r\nQ 44.34375 72.90625 50.609375 67.359375 \r\nQ 56.890625 61.8125 56.890625 51.125 \r\nQ 56.890625 40.328125 50.609375 34.8125 \r\nQ 44.34375 29.296875 32.078125 29.296875 \r\nL 19.671875 29.296875 \r\nL 19.671875 0 \r\nL 9.8125 0 \r\nz\r\n\" id=\"DejaVuSans-80\"/>\r\n       <path d=\"M 44.390625 34.1875 \r\nQ 47.5625 33.109375 50.5625 29.59375 \r\nQ 53.5625 26.078125 56.59375 19.921875 \r\nL 66.609375 0 \r\nL 56 0 \r\nL 46.6875 18.703125 \r\nQ 43.0625 26.03125 39.671875 28.421875 \r\nQ 36.28125 30.8125 30.421875 30.8125 \r\nL 19.671875 30.8125 \r\nL 19.671875 0 \r\nL 9.8125 0 \r\nL 9.8125 72.90625 \r\nL 32.078125 72.90625 \r\nQ 44.578125 72.90625 50.734375 67.671875 \r\nQ 56.890625 62.453125 56.890625 51.90625 \r\nQ 56.890625 45.015625 53.6875 40.46875 \r\nQ 50.484375 35.9375 44.390625 34.1875 \r\nz\r\nM 19.671875 64.796875 \r\nL 19.671875 38.921875 \r\nL 32.078125 38.921875 \r\nQ 39.203125 38.921875 42.84375 42.21875 \r\nQ 46.484375 45.515625 46.484375 51.90625 \r\nQ 46.484375 58.296875 42.84375 61.546875 \r\nQ 39.203125 64.796875 32.078125 64.796875 \r\nz\r\n\" id=\"DejaVuSans-82\"/>\r\n      </defs>\r\n      <g transform=\"translate(384.249824 293.598437)scale(0.1 -0.1)\">\r\n       <use xlink:href=\"#DejaVuSans-80\"/>\r\n       <use x=\"60.302734\" xlink:href=\"#DejaVuSans-82\"/>\r\n       <use x=\"129.785156\" xlink:href=\"#DejaVuSans-79\"/>\r\n       <use x=\"208.496094\" xlink:href=\"#DejaVuSans-78\"/>\r\n      </g>\r\n     </g>\r\n    </g>\r\n    <g id=\"xtick_9\">\r\n     <g id=\"line2d_9\">\r\n      <g>\r\n       <use style=\"stroke:#000000;stroke-width:0.8;\" x=\"443.109081\" xlink:href=\"#m9a68336bb3\" y=\"279\"/>\r\n      </g>\r\n     </g>\r\n     <g id=\"text_9\">\r\n      <!-- CONJ -->\r\n      <defs>\r\n       <path d=\"M 64.40625 67.28125 \r\nL 64.40625 56.890625 \r\nQ 59.421875 61.53125 53.78125 63.8125 \r\nQ 48.140625 66.109375 41.796875 66.109375 \r\nQ 29.296875 66.109375 22.65625 58.46875 \r\nQ 16.015625 50.828125 16.015625 36.375 \r\nQ 16.015625 21.96875 22.65625 14.328125 \r\nQ 29.296875 6.6875 41.796875 6.6875 \r\nQ 48.140625 6.6875 53.78125 8.984375 \r\nQ 59.421875 11.28125 64.40625 15.921875 \r\nL 64.40625 5.609375 \r\nQ 59.234375 2.09375 53.4375 0.328125 \r\nQ 47.65625 -1.421875 41.21875 -1.421875 \r\nQ 24.65625 -1.421875 15.125 8.703125 \r\nQ 5.609375 18.84375 5.609375 36.375 \r\nQ 5.609375 53.953125 15.125 64.078125 \r\nQ 24.65625 74.21875 41.21875 74.21875 \r\nQ 47.75 74.21875 53.53125 72.484375 \r\nQ 59.328125 70.75 64.40625 67.28125 \r\nz\r\n\" id=\"DejaVuSans-67\"/>\r\n      </defs>\r\n      <g transform=\"translate(430.466112 293.598437)scale(0.1 -0.1)\">\r\n       <use xlink:href=\"#DejaVuSans-67\"/>\r\n       <use x=\"69.824219\" xlink:href=\"#DejaVuSans-79\"/>\r\n       <use x=\"148.535156\" xlink:href=\"#DejaVuSans-78\"/>\r\n       <use x=\"223.339844\" xlink:href=\"#DejaVuSans-74\"/>\r\n      </g>\r\n     </g>\r\n    </g>\r\n    <g id=\"xtick_10\">\r\n     <g id=\"line2d_10\">\r\n      <g>\r\n       <use style=\"stroke:#000000;stroke-width:0.8;\" x=\"487.802713\" xlink:href=\"#m9a68336bb3\" y=\"279\"/>\r\n      </g>\r\n     </g>\r\n     <g id=\"text_10\">\r\n      <!-- PRT -->\r\n      <g transform=\"translate(478.622245 293.598437)scale(0.1 -0.1)\">\r\n       <use xlink:href=\"#DejaVuSans-80\"/>\r\n       <use x=\"60.302734\" xlink:href=\"#DejaVuSans-82\"/>\r\n       <use x=\"122.535156\" xlink:href=\"#DejaVuSans-84\"/>\r\n      </g>\r\n     </g>\r\n    </g>\r\n    <g id=\"xtick_11\">\r\n     <g id=\"line2d_11\">\r\n      <g>\r\n       <use style=\"stroke:#000000;stroke-width:0.8;\" x=\"532.496346\" xlink:href=\"#m9a68336bb3\" y=\"279\"/>\r\n      </g>\r\n     </g>\r\n     <g id=\"text_11\">\r\n      <!-- ADP -->\r\n      <g transform=\"translate(522.211189 293.598437)scale(0.1 -0.1)\">\r\n       <use xlink:href=\"#DejaVuSans-65\"/>\r\n       <use x=\"68.408203\" xlink:href=\"#DejaVuSans-68\"/>\r\n       <use x=\"145.410156\" xlink:href=\"#DejaVuSans-80\"/>\r\n      </g>\r\n     </g>\r\n    </g>\r\n    <g id=\"xtick_12\">\r\n     <g id=\"line2d_12\">\r\n      <g>\r\n       <use style=\"stroke:#000000;stroke-width:0.8;\" x=\"577.189978\" xlink:href=\"#m9a68336bb3\" y=\"279\"/>\r\n      </g>\r\n     </g>\r\n     <g id=\"text_12\">\r\n      <!-- VERB -->\r\n      <defs>\r\n       <path d=\"M 19.671875 34.8125 \r\nL 19.671875 8.109375 \r\nL 35.5 8.109375 \r\nQ 43.453125 8.109375 47.28125 11.40625 \r\nQ 51.125 14.703125 51.125 21.484375 \r\nQ 51.125 28.328125 47.28125 31.5625 \r\nQ 43.453125 34.8125 35.5 34.8125 \r\nz\r\nM 19.671875 64.796875 \r\nL 19.671875 42.828125 \r\nL 34.28125 42.828125 \r\nQ 41.5 42.828125 45.03125 45.53125 \r\nQ 48.578125 48.25 48.578125 53.8125 \r\nQ 48.578125 59.328125 45.03125 62.0625 \r\nQ 41.5 64.796875 34.28125 64.796875 \r\nz\r\nM 9.8125 72.90625 \r\nL 35.015625 72.90625 \r\nQ 46.296875 72.90625 52.390625 68.21875 \r\nQ 58.5 63.53125 58.5 54.890625 \r\nQ 58.5 48.1875 55.375 44.234375 \r\nQ 52.25 40.28125 46.1875 39.3125 \r\nQ 53.46875 37.75 57.5 32.78125 \r\nQ 61.53125 27.828125 61.53125 20.40625 \r\nQ 61.53125 10.640625 54.890625 5.3125 \r\nQ 48.25 0 35.984375 0 \r\nL 9.8125 0 \r\nz\r\n\" id=\"DejaVuSans-66\"/>\r\n      </defs>\r\n      <g transform=\"translate(563.705603 293.598437)scale(0.1 -0.1)\">\r\n       <use xlink:href=\"#DejaVuSans-86\"/>\r\n       <use x=\"68.408203\" xlink:href=\"#DejaVuSans-69\"/>\r\n       <use x=\"131.591797\" xlink:href=\"#DejaVuSans-82\"/>\r\n       <use x=\"201.074219\" xlink:href=\"#DejaVuSans-66\"/>\r\n      </g>\r\n     </g>\r\n    </g>\r\n   </g>\r\n   <g id=\"matplotlib.axis_2\">\r\n    <g id=\"ytick_1\">\r\n     <g id=\"line2d_13\">\r\n      <defs>\r\n       <path d=\"M 0 0 \r\nL -3.5 0 \r\n\" id=\"md71cb8a7de\" style=\"stroke:#000000;stroke-width:0.8;\"/>\r\n      </defs>\r\n      <g>\r\n       <use style=\"stroke:#000000;stroke-width:0.8;\" x=\"52.375\" xlink:href=\"#md71cb8a7de\" y=\"279\"/>\r\n      </g>\r\n     </g>\r\n     <g id=\"text_13\">\r\n      <!-- 0 -->\r\n      <defs>\r\n       <path d=\"M 31.78125 66.40625 \r\nQ 24.171875 66.40625 20.328125 58.90625 \r\nQ 16.5 51.421875 16.5 36.375 \r\nQ 16.5 21.390625 20.328125 13.890625 \r\nQ 24.171875 6.390625 31.78125 6.390625 \r\nQ 39.453125 6.390625 43.28125 13.890625 \r\nQ 47.125 21.390625 47.125 36.375 \r\nQ 47.125 51.421875 43.28125 58.90625 \r\nQ 39.453125 66.40625 31.78125 66.40625 \r\nz\r\nM 31.78125 74.21875 \r\nQ 44.046875 74.21875 50.515625 64.515625 \r\nQ 56.984375 54.828125 56.984375 36.375 \r\nQ 56.984375 17.96875 50.515625 8.265625 \r\nQ 44.046875 -1.421875 31.78125 -1.421875 \r\nQ 19.53125 -1.421875 13.0625 8.265625 \r\nQ 6.59375 17.96875 6.59375 36.375 \r\nQ 6.59375 54.828125 13.0625 64.515625 \r\nQ 19.53125 74.21875 31.78125 74.21875 \r\nz\r\n\" id=\"DejaVuSans-48\"/>\r\n      </defs>\r\n      <g transform=\"translate(39.0125 282.799219)scale(0.1 -0.1)\">\r\n       <use xlink:href=\"#DejaVuSans-48\"/>\r\n      </g>\r\n     </g>\r\n    </g>\r\n    <g id=\"ytick_2\">\r\n     <g id=\"line2d_14\">\r\n      <g>\r\n       <use style=\"stroke:#000000;stroke-width:0.8;\" x=\"52.375\" xlink:href=\"#md71cb8a7de\" y=\"242.160189\"/>\r\n      </g>\r\n     </g>\r\n     <g id=\"text_14\">\r\n      <!-- 25000 -->\r\n      <defs>\r\n       <path d=\"M 19.1875 8.296875 \r\nL 53.609375 8.296875 \r\nL 53.609375 0 \r\nL 7.328125 0 \r\nL 7.328125 8.296875 \r\nQ 12.9375 14.109375 22.625 23.890625 \r\nQ 32.328125 33.6875 34.8125 36.53125 \r\nQ 39.546875 41.84375 41.421875 45.53125 \r\nQ 43.3125 49.21875 43.3125 52.78125 \r\nQ 43.3125 58.59375 39.234375 62.25 \r\nQ 35.15625 65.921875 28.609375 65.921875 \r\nQ 23.96875 65.921875 18.8125 64.3125 \r\nQ 13.671875 62.703125 7.8125 59.421875 \r\nL 7.8125 69.390625 \r\nQ 13.765625 71.78125 18.9375 73 \r\nQ 24.125 74.21875 28.421875 74.21875 \r\nQ 39.75 74.21875 46.484375 68.546875 \r\nQ 53.21875 62.890625 53.21875 53.421875 \r\nQ 53.21875 48.921875 51.53125 44.890625 \r\nQ 49.859375 40.875 45.40625 35.40625 \r\nQ 44.1875 33.984375 37.640625 27.21875 \r\nQ 31.109375 20.453125 19.1875 8.296875 \r\nz\r\n\" id=\"DejaVuSans-50\"/>\r\n       <path d=\"M 10.796875 72.90625 \r\nL 49.515625 72.90625 \r\nL 49.515625 64.59375 \r\nL 19.828125 64.59375 \r\nL 19.828125 46.734375 \r\nQ 21.96875 47.46875 24.109375 47.828125 \r\nQ 26.265625 48.1875 28.421875 48.1875 \r\nQ 40.625 48.1875 47.75 41.5 \r\nQ 54.890625 34.8125 54.890625 23.390625 \r\nQ 54.890625 11.625 47.5625 5.09375 \r\nQ 40.234375 -1.421875 26.90625 -1.421875 \r\nQ 22.3125 -1.421875 17.546875 -0.640625 \r\nQ 12.796875 0.140625 7.71875 1.703125 \r\nL 7.71875 11.625 \r\nQ 12.109375 9.234375 16.796875 8.0625 \r\nQ 21.484375 6.890625 26.703125 6.890625 \r\nQ 35.15625 6.890625 40.078125 11.328125 \r\nQ 45.015625 15.765625 45.015625 23.390625 \r\nQ 45.015625 31 40.078125 35.4375 \r\nQ 35.15625 39.890625 26.703125 39.890625 \r\nQ 22.75 39.890625 18.8125 39.015625 \r\nQ 14.890625 38.140625 10.796875 36.28125 \r\nz\r\n\" id=\"DejaVuSans-53\"/>\r\n      </defs>\r\n      <g transform=\"translate(13.5625 245.959408)scale(0.1 -0.1)\">\r\n       <use xlink:href=\"#DejaVuSans-50\"/>\r\n       <use x=\"63.623047\" xlink:href=\"#DejaVuSans-53\"/>\r\n       <use x=\"127.246094\" xlink:href=\"#DejaVuSans-48\"/>\r\n       <use x=\"190.869141\" xlink:href=\"#DejaVuSans-48\"/>\r\n       <use x=\"254.492188\" xlink:href=\"#DejaVuSans-48\"/>\r\n      </g>\r\n     </g>\r\n    </g>\r\n    <g id=\"ytick_3\">\r\n     <g id=\"line2d_15\">\r\n      <g>\r\n       <use style=\"stroke:#000000;stroke-width:0.8;\" x=\"52.375\" xlink:href=\"#md71cb8a7de\" y=\"205.320378\"/>\r\n      </g>\r\n     </g>\r\n     <g id=\"text_15\">\r\n      <!-- 50000 -->\r\n      <g transform=\"translate(13.5625 209.119597)scale(0.1 -0.1)\">\r\n       <use xlink:href=\"#DejaVuSans-53\"/>\r\n       <use x=\"63.623047\" xlink:href=\"#DejaVuSans-48\"/>\r\n       <use x=\"127.246094\" xlink:href=\"#DejaVuSans-48\"/>\r\n       <use x=\"190.869141\" xlink:href=\"#DejaVuSans-48\"/>\r\n       <use x=\"254.492188\" xlink:href=\"#DejaVuSans-48\"/>\r\n      </g>\r\n     </g>\r\n    </g>\r\n    <g id=\"ytick_4\">\r\n     <g id=\"line2d_16\">\r\n      <g>\r\n       <use style=\"stroke:#000000;stroke-width:0.8;\" x=\"52.375\" xlink:href=\"#md71cb8a7de\" y=\"168.480567\"/>\r\n      </g>\r\n     </g>\r\n     <g id=\"text_16\">\r\n      <!-- 75000 -->\r\n      <defs>\r\n       <path d=\"M 8.203125 72.90625 \r\nL 55.078125 72.90625 \r\nL 55.078125 68.703125 \r\nL 28.609375 0 \r\nL 18.3125 0 \r\nL 43.21875 64.59375 \r\nL 8.203125 64.59375 \r\nz\r\n\" id=\"DejaVuSans-55\"/>\r\n      </defs>\r\n      <g transform=\"translate(13.5625 172.279786)scale(0.1 -0.1)\">\r\n       <use xlink:href=\"#DejaVuSans-55\"/>\r\n       <use x=\"63.623047\" xlink:href=\"#DejaVuSans-53\"/>\r\n       <use x=\"127.246094\" xlink:href=\"#DejaVuSans-48\"/>\r\n       <use x=\"190.869141\" xlink:href=\"#DejaVuSans-48\"/>\r\n       <use x=\"254.492188\" xlink:href=\"#DejaVuSans-48\"/>\r\n      </g>\r\n     </g>\r\n    </g>\r\n    <g id=\"ytick_5\">\r\n     <g id=\"line2d_17\">\r\n      <g>\r\n       <use style=\"stroke:#000000;stroke-width:0.8;\" x=\"52.375\" xlink:href=\"#md71cb8a7de\" y=\"131.640756\"/>\r\n      </g>\r\n     </g>\r\n     <g id=\"text_17\">\r\n      <!-- 100000 -->\r\n      <defs>\r\n       <path d=\"M 12.40625 8.296875 \r\nL 28.515625 8.296875 \r\nL 28.515625 63.921875 \r\nL 10.984375 60.40625 \r\nL 10.984375 69.390625 \r\nL 28.421875 72.90625 \r\nL 38.28125 72.90625 \r\nL 38.28125 8.296875 \r\nL 54.390625 8.296875 \r\nL 54.390625 0 \r\nL 12.40625 0 \r\nz\r\n\" id=\"DejaVuSans-49\"/>\r\n      </defs>\r\n      <g transform=\"translate(7.2 135.439974)scale(0.1 -0.1)\">\r\n       <use xlink:href=\"#DejaVuSans-49\"/>\r\n       <use x=\"63.623047\" xlink:href=\"#DejaVuSans-48\"/>\r\n       <use x=\"127.246094\" xlink:href=\"#DejaVuSans-48\"/>\r\n       <use x=\"190.869141\" xlink:href=\"#DejaVuSans-48\"/>\r\n       <use x=\"254.492188\" xlink:href=\"#DejaVuSans-48\"/>\r\n       <use x=\"318.115234\" xlink:href=\"#DejaVuSans-48\"/>\r\n      </g>\r\n     </g>\r\n    </g>\r\n    <g id=\"ytick_6\">\r\n     <g id=\"line2d_18\">\r\n      <g>\r\n       <use style=\"stroke:#000000;stroke-width:0.8;\" x=\"52.375\" xlink:href=\"#md71cb8a7de\" y=\"94.800945\"/>\r\n      </g>\r\n     </g>\r\n     <g id=\"text_18\">\r\n      <!-- 125000 -->\r\n      <g transform=\"translate(7.2 98.600163)scale(0.1 -0.1)\">\r\n       <use xlink:href=\"#DejaVuSans-49\"/>\r\n       <use x=\"63.623047\" xlink:href=\"#DejaVuSans-50\"/>\r\n       <use x=\"127.246094\" xlink:href=\"#DejaVuSans-53\"/>\r\n       <use x=\"190.869141\" xlink:href=\"#DejaVuSans-48\"/>\r\n       <use x=\"254.492188\" xlink:href=\"#DejaVuSans-48\"/>\r\n       <use x=\"318.115234\" xlink:href=\"#DejaVuSans-48\"/>\r\n      </g>\r\n     </g>\r\n    </g>\r\n    <g id=\"ytick_7\">\r\n     <g id=\"line2d_19\">\r\n      <g>\r\n       <use style=\"stroke:#000000;stroke-width:0.8;\" x=\"52.375\" xlink:href=\"#md71cb8a7de\" y=\"57.961134\"/>\r\n      </g>\r\n     </g>\r\n     <g id=\"text_19\">\r\n      <!-- 150000 -->\r\n      <g transform=\"translate(7.2 61.760352)scale(0.1 -0.1)\">\r\n       <use xlink:href=\"#DejaVuSans-49\"/>\r\n       <use x=\"63.623047\" xlink:href=\"#DejaVuSans-53\"/>\r\n       <use x=\"127.246094\" xlink:href=\"#DejaVuSans-48\"/>\r\n       <use x=\"190.869141\" xlink:href=\"#DejaVuSans-48\"/>\r\n       <use x=\"254.492188\" xlink:href=\"#DejaVuSans-48\"/>\r\n       <use x=\"318.115234\" xlink:href=\"#DejaVuSans-48\"/>\r\n      </g>\r\n     </g>\r\n    </g>\r\n    <g id=\"ytick_8\">\r\n     <g id=\"line2d_20\">\r\n      <g>\r\n       <use style=\"stroke:#000000;stroke-width:0.8;\" x=\"52.375\" xlink:href=\"#md71cb8a7de\" y=\"21.121323\"/>\r\n      </g>\r\n     </g>\r\n     <g id=\"text_20\">\r\n      <!-- 175000 -->\r\n      <g transform=\"translate(7.2 24.920541)scale(0.1 -0.1)\">\r\n       <use xlink:href=\"#DejaVuSans-49\"/>\r\n       <use x=\"63.623047\" xlink:href=\"#DejaVuSans-55\"/>\r\n       <use x=\"127.246094\" xlink:href=\"#DejaVuSans-53\"/>\r\n       <use x=\"190.869141\" xlink:href=\"#DejaVuSans-48\"/>\r\n       <use x=\"254.492188\" xlink:href=\"#DejaVuSans-48\"/>\r\n       <use x=\"318.115234\" xlink:href=\"#DejaVuSans-48\"/>\r\n      </g>\r\n     </g>\r\n    </g>\r\n   </g>\r\n   <g id=\"patch_15\">\r\n    <path d=\"M 52.375 279 \r\nL 52.375 7.2 \r\n\" style=\"fill:none;stroke:#000000;stroke-linecap:square;stroke-linejoin:miter;stroke-width:0.8;\"/>\r\n   </g>\r\n   <g id=\"patch_16\">\r\n    <path d=\"M 610.375 279 \r\nL 610.375 7.2 \r\n\" style=\"fill:none;stroke:#000000;stroke-linecap:square;stroke-linejoin:miter;stroke-width:0.8;\"/>\r\n   </g>\r\n   <g id=\"patch_17\">\r\n    <path d=\"M 52.375 279 \r\nL 610.375 279 \r\n\" style=\"fill:none;stroke:#000000;stroke-linecap:square;stroke-linejoin:miter;stroke-width:0.8;\"/>\r\n   </g>\r\n   <g id=\"patch_18\">\r\n    <path d=\"M 52.375 7.2 \r\nL 610.375 7.2 \r\n\" style=\"fill:none;stroke:#000000;stroke-linecap:square;stroke-linejoin:miter;stroke-width:0.8;\"/>\r\n   </g>\r\n  </g>\r\n </g>\r\n <defs>\r\n  <clipPath id=\"pb4df2af1a1\">\r\n   <rect height=\"271.8\" width=\"558\" x=\"52.375\" y=\"7.2\"/>\r\n  </clipPath>\r\n </defs>\r\n</svg>\r\n",
      "image/png": "[encoded data removed]"
     },
     "metadata": {
      "needs_background": "light"
     }
    }
   ],
   "source": [
    "import matplotlib.pyplot as plt\n",
    "%matplotlib inline\n",
    "\n",
    "from collections import Counter\n",
    "\n",
    "tag_distribution = Counter(tag for sample in train_data for _, tag in sample)\n",
    "tag_distribution = [tag_distribution[tag] for tag in tags]\n",
    "\n",
    "plt.figure(figsize=(10, 5))\n",
    "\n",
    "bar_width = 0.35\n",
    "plt.bar(np.arange(len(tags)), tag_distribution, bar_width, align='center', alpha=0.5)\n",
    "plt.xticks(np.arange(len(tags)), tags)\n",
    "    \n",
    "plt.show()"
   ]
  },
  {
   "cell_type": "markdown",
   "metadata": {
    "colab_type": "text",
    "id": "gArQwbzWWkgi"
   },
   "source": [
    "## Бейзлайн\n",
    "\n",
    "Какой самый простой теггер можно придумать? Давайте просто запоминать, какие теги самые вероятные для слова (или для последовательности):\n",
    "\n",
    "![tag-context](https://www.nltk.org/images/tag-context.png)  \n",
    "*From [Categorizing and Tagging Words, nltk](https://www.nltk.org/book/ch05.html)*\n",
    "\n",
    "На картинке показано, что для предсказания $t_n$ используются два предыдущих предсказанных тега + текущее слово. По корпусу считаются вероятность для $P(t_n| w_n, t_{n-1}, t_{n-2})$, выбирается тег с максимальной вероятностью.\n",
    "\n",
    "Более аккуратно такая идея реализована в Hidden Markov Models: по тренировочному корпусу вычисляются вероятности $P(w_n| t_n), P(t_n|t_{n-1}, t_{n-2})$ и максимизируется их произведение.\n",
    "\n",
    "Простейший вариант - униграммная модель, учитывающая только слово:"
   ]
  },
  {
   "cell_type": "code",
   "execution_count": 7,
   "metadata": {
    "colab": {},
    "colab_type": "code",
    "id": "5rWmSToIaeAo"
   },
   "outputs": [
    {
     "output_type": "stream",
     "name": "stdout",
     "text": "Accuracy of unigram tagger = 92.62%\n"
    }
   ],
   "source": [
    "import nltk\n",
    "\n",
    "default_tagger = nltk.DefaultTagger('NN')\n",
    "\n",
    "unigram_tagger = nltk.UnigramTagger(train_data, backoff=default_tagger)\n",
    "print('Accuracy of unigram tagger = {:.2%}'.format(unigram_tagger.evaluate(test_data)))"
   ]
  },
  {
   "cell_type": "markdown",
   "metadata": {
    "colab_type": "text",
    "id": "07Ymb_MkbWsF"
   },
   "source": [
    "Добавим вероятности переходов:"
   ]
  },
  {
   "cell_type": "code",
   "execution_count": 8,
   "metadata": {
    "colab": {},
    "colab_type": "code",
    "id": "vjz_Rk0bbMyH"
   },
   "outputs": [
    {
     "output_type": "stream",
     "name": "stdout",
     "text": "Accuracy of bigram tagger = 93.42%\n"
    }
   ],
   "source": [
    "bigram_tagger = nltk.BigramTagger(train_data, backoff=unigram_tagger)\n",
    "print('Accuracy of bigram tagger = {:.2%}'.format(bigram_tagger.evaluate(test_data)))"
   ]
  },
  {
   "cell_type": "markdown",
   "metadata": {
    "colab_type": "text",
    "id": "uWMw6QHvbaDd"
   },
   "source": [
    "Обратите внимание, что `backoff` важен:"
   ]
  },
  {
   "cell_type": "code",
   "execution_count": 9,
   "metadata": {
    "colab": {},
    "colab_type": "code",
    "id": "8XCuxEBVbOY_"
   },
   "outputs": [
    {
     "output_type": "stream",
     "name": "stdout",
     "text": "Accuracy of trigram tagger = 23.33%\n"
    }
   ],
   "source": [
    "trigram_tagger = nltk.TrigramTagger(train_data)\n",
    "print('Accuracy of trigram tagger = {:.2%}'.format(trigram_tagger.evaluate(test_data)))"
   ]
  },
  {
   "cell_type": "markdown",
   "metadata": {
    "colab_type": "text",
    "id": "4t3xyYd__8d-"
   },
   "source": [
    "## Увеличиваем контекст с рекуррентными сетями\n",
    "\n",
    "Униграмная модель работает на удивление хорошо, но мы же собрались учить сеточки.\n",
    "\n",
    "Омонимия - основная причина, почему униграмная модель плоха:  \n",
    "*“he cashed a check at the **bank**”*  \n",
    "vs  \n",
    "*“he sat on the **bank** of the river”*\n",
    "\n",
    "Поэтому нам очень полезно учитывать контекст при предсказании тега.\n",
    "\n",
    "Воспользуемся LSTM - он умеет работать с контекстом очень даже хорошо:\n",
    "\n",
    "![](https://image.ibb.co/kgmoff/Baseline-Tagger.png)\n",
    "\n",
    "Синим показано выделение фичей из слова, LSTM оранжевенький - он строит эмбеддинги слов с учетом контекста, а дальше зелененькая логистическая регрессия делает предсказания тегов."
   ]
  },
  {
   "cell_type": "code",
   "execution_count": 10,
   "metadata": {
    "colab": {},
    "colab_type": "code",
    "id": "RtRbz1SwgEqc"
   },
   "outputs": [],
   "source": [
    "def convert_data(data, word2ind, tag2ind):\n",
    "    X = [[word2ind.get(word, 0) for word, _ in sample] for sample in data]\n",
    "    y = [[tag2ind[tag] for _, tag in sample] for sample in data]\n",
    "    \n",
    "    return X, y\n",
    "\n",
    "X_train, y_train = convert_data(train_data, word2ind, tag2ind)\n",
    "X_val, y_val = convert_data(val_data, word2ind, tag2ind)\n",
    "X_test, y_test = convert_data(test_data, word2ind, tag2ind)"
   ]
  },
  {
   "cell_type": "code",
   "execution_count": 11,
   "metadata": {
    "colab": {},
    "colab_type": "code",
    "id": "DhsTKZalfih6"
   },
   "outputs": [],
   "source": [
    "def iterate_batches(data, batch_size):\n",
    "    X, y = data\n",
    "    n_samples = len(X)\n",
    "\n",
    "    indices = np.arange(n_samples)\n",
    "    np.random.shuffle(indices)\n",
    "    \n",
    "    for start in range(0, n_samples, batch_size):\n",
    "        end = min(start + batch_size, n_samples)\n",
    "        \n",
    "        batch_indices = indices[start:end]\n",
    "        \n",
    "        max_sent_len = max(len(X[ind]) for ind in batch_indices)\n",
    "        X_batch = np.zeros((max_sent_len, len(batch_indices)))\n",
    "        y_batch = np.zeros((max_sent_len, len(batch_indices)))\n",
    "        \n",
    "        for batch_ind, sample_ind in enumerate(batch_indices):\n",
    "            X_batch[:len(X[sample_ind]), batch_ind] = X[sample_ind]\n",
    "            y_batch[:len(y[sample_ind]), batch_ind] = y[sample_ind]\n",
    "            \n",
    "        yield X_batch, y_batch"
   ]
  },
  {
   "cell_type": "code",
   "execution_count": 12,
   "metadata": {
    "colab": {},
    "colab_type": "code",
    "id": "l4XsRII5kW5x"
   },
   "outputs": [
    {
     "output_type": "execute_result",
     "data": {
      "text/plain": "((32, 4), (32, 4))"
     },
     "metadata": {},
     "execution_count": 12
    }
   ],
   "source": [
    "X_batch, y_batch = next(iterate_batches((X_train, y_train), 4))\n",
    "\n",
    "X_batch.shape, y_batch.shape"
   ]
  },
  {
   "cell_type": "markdown",
   "metadata": {
    "colab_type": "text",
    "id": "C5I9E9P6eFYv"
   },
   "source": [
    "**Задание** Реализуйте `LSTMTagger`:"
   ]
  },
  {
   "cell_type": "code",
   "execution_count": 13,
   "metadata": {
    "colab": {},
    "colab_type": "code",
    "id": "WVEHju54d68T"
   },
   "outputs": [],
   "source": [
    "class LSTMTagger(nn.Module):\n",
    "    def __init__(self, vocab_size, tagset_size, word_emb_dim=100, lstm_hidden_dim=128, lstm_layers_count=1):\n",
    "        super().__init__()\n",
    "       \n",
    "        self.word_embeddings = nn.Embedding(vocab_size, word_emb_dim)\n",
    "\n",
    "        # Word embeddings as inputs, outputs hidden states with dimensionality lstm_hidden_dim\n",
    "        self.lstm = nn.LSTM(word_emb_dim, lstm_hidden_dim, num_layers=lstm_layers_count)\n",
    "        self.hidden2tag = nn.Linear(lstm_hidden_dim, tagset_size)\n",
    "\n",
    "    def forward(self, inputs):\n",
    "        embeds = self.word_embeddings(inputs)\n",
    "        lstm_out, _ = self.lstm(embeds)\n",
    "        tag_scores = self.hidden2tag(lstm_out)\n",
    "        return tag_scores"
   ]
  },
  {
   "cell_type": "markdown",
   "metadata": {
    "colab_type": "text",
    "id": "q_HA8zyheYGH"
   },
   "source": [
    "**Задание** Научитесь считать accuracy и loss (а заодно проверьте, что модель работает)"
   ]
  },
  {
   "cell_type": "code",
   "execution_count": 14,
   "metadata": {
    "colab": {},
    "colab_type": "code",
    "id": "jbrxsZ2mehWB"
   },
   "outputs": [
    {
     "output_type": "stream",
     "name": "stdout",
     "text": "Accuracy =0.07608695652173914\n"
    }
   ],
   "source": [
    "model = LSTMTagger(\n",
    "    vocab_size=len(word2ind),\n",
    "    tagset_size=len(tag2ind)\n",
    ")\n",
    "\n",
    "X_batch, y_batch = torch.LongTensor(X_batch), torch.LongTensor(y_batch)\n",
    "\n",
    "logits = model(X_batch)\n",
    "\n",
    "def calc_accuracy(logits, y_batch):\n",
    "    preds = torch.argmax(logits, dim = -1)\n",
    "    mask = (y_batch != 0).float()\n",
    "    correct = (preds == y_batch).float()\n",
    "    count = (correct * mask).sum().item()\n",
    "    total_count = (mask).sum().item()\n",
    "    accuracy = count / total_count\n",
    "    return count, total_count\n",
    "count_, total_count_ = calc_accuracy(logits, y_batch)\n",
    "print('Accuracy =', count_/total_count_)"
   ]
  },
  {
   "cell_type": "code",
   "execution_count": 15,
   "metadata": {
    "colab": {},
    "colab_type": "code",
    "id": "GMUyUm1hgpe3"
   },
   "outputs": [
    {
     "output_type": "stream",
     "name": "stdout",
     "text": "Loss =2.565821886062622\n"
    }
   ],
   "source": [
    "criterion = nn.CrossEntropyLoss(ignore_index=0)\n",
    "def calc_loss(logits, y_batch):\n",
    "    log = logits.view(-1, logits.shape[-1])\n",
    "    batch = y_batch.view(-1)\n",
    "    return criterion(log, batch).item()\n",
    "print(\"Loss = \", calc_loss(logits, y_batch))"
   ]
  },
  {
   "cell_type": "markdown",
   "metadata": {
    "colab_type": "text",
    "id": "nSgV3NPUpcjH"
   },
   "source": [
    "**Задание** Вставьте эти вычисление в функцию:"
   ]
  },
  {
   "cell_type": "code",
   "execution_count": 16,
   "metadata": {
    "colab": {},
    "colab_type": "code",
    "id": "FprPQ0gllo7b"
   },
   "outputs": [],
   "source": [
    "import math\n",
    "from tqdm import tqdm\n",
    "\n",
    "\n",
    "def do_epoch(model, criterion, data, batch_size, optimizer=None, name=None):\n",
    "    epoch_loss = 0\n",
    "    correct_count = 0\n",
    "    sum_count = 0\n",
    "    \n",
    "    is_train = not optimizer is None\n",
    "    name = name or ''\n",
    "    model.train(is_train)\n",
    "    \n",
    "    batches_count = math.ceil(len(data[0]) / batch_size)\n",
    "    \n",
    "    with torch.autograd.set_grad_enabled(is_train):\n",
    "        with tqdm(total=batches_count) as progress_bar:\n",
    "            for i, (X_batch, y_batch) in enumerate(iterate_batches(data, batch_size)):\n",
    "                X_batch, y_batch = LongTensor(X_batch), LongTensor(y_batch)\n",
    "                logits = model(X_batch)\n",
    "\n",
    "                log = logits.view(-1, logits.shape[-1])\n",
    "                batch = y_batch.view(-1)\n",
    "                loss = criterion(log, batch)\n",
    "\n",
    "                epoch_loss += loss.item()\n",
    "\n",
    "                if optimizer:\n",
    "                    optimizer.zero_grad()\n",
    "                    loss.backward()\n",
    "                    optimizer.step()\n",
    "\n",
    "                cur_correct_count, cur_sum_count = calc_accuracy(logits, y_batch)\n",
    "\n",
    "                correct_count += cur_correct_count\n",
    "                sum_count += cur_sum_count\n",
    "\n",
    "                progress_bar.update()\n",
    "                progress_bar.set_description('{:>5s} Loss = {:.5f}, Accuracy = {:.2%}'.format(\n",
    "                    name, loss.item(), cur_correct_count / cur_sum_count)\n",
    "                )\n",
    "                \n",
    "            progress_bar.set_description('{:>5s} Loss = {:.5f}, Accuracy = {:.2%}'.format(\n",
    "                name, epoch_loss / batches_count, correct_count / sum_count)\n",
    "            )\n",
    "\n",
    "    return epoch_loss / batches_count, correct_count / sum_count\n",
    "\n",
    "\n",
    "def fit(model, criterion, optimizer, train_data, epochs_count=1, batch_size=32,\n",
    "        val_data=None, val_batch_size=None):\n",
    "        \n",
    "    if not val_data is None and val_batch_size is None:\n",
    "        val_batch_size = batch_size\n",
    "        \n",
    "    for epoch in range(epochs_count):\n",
    "        name_prefix = '[{} / {}] '.format(epoch + 1, epochs_count)\n",
    "        train_loss, train_acc = do_epoch(model, criterion, train_data, batch_size, optimizer, name_prefix + 'Train:')\n",
    "        \n",
    "        if not val_data is None:\n",
    "            val_loss, val_acc = do_epoch(model, criterion, val_data, val_batch_size, None, name_prefix + '  Val:')"
   ]
  },
  {
   "cell_type": "code",
   "execution_count": 17,
   "metadata": {
    "colab": {},
    "colab_type": "code",
    "id": "Pqfbeh1ltEYa"
   },
   "outputs": [
    {
     "output_type": "stream",
     "name": "stderr",
     "text": "[1 / 50] Train: Loss = 0.30470, Accuracy = 72.33%: 100%|██████████| 572/572 [00:24<00:00, 23.59it/s]\n[1 / 50]   Val: Loss = 0.10619, Accuracy = 85.08%: 100%|██████████| 13/13 [00:00<00:00, 18.81it/s]\n[2 / 50] Train: Loss = 0.09996, Accuracy = 89.98%: 100%|██████████| 572/572 [00:19<00:00, 29.31it/s]\n[2 / 50]   Val: Loss = 0.07699, Accuracy = 89.33%: 100%|██████████| 13/13 [00:00<00:00, 18.13it/s]\n[3 / 50] Train: Loss = 0.06754, Accuracy = 93.19%: 100%|██████████| 572/572 [00:20<00:00, 28.57it/s]\n[3 / 50]   Val: Loss = 0.06979, Accuracy = 91.08%: 100%|██████████| 13/13 [00:00<00:00, 22.75it/s]\n[4 / 50] Train: Loss = 0.05064, Accuracy = 94.81%: 100%|██████████| 572/572 [00:19<00:00, 29.65it/s]\n[4 / 50]   Val: Loss = 0.06560, Accuracy = 92.01%: 100%|██████████| 13/13 [00:00<00:00, 20.37it/s]\n[5 / 50] Train: Loss = 0.04062, Accuracy = 95.82%: 100%|██████████| 572/572 [00:19<00:00, 29.32it/s]\n[5 / 50]   Val: Loss = 0.06753, Accuracy = 92.57%: 100%|██████████| 13/13 [00:00<00:00, 23.61it/s]\n[6 / 50] Train: Loss = 0.03297, Accuracy = 96.58%: 100%|██████████| 572/572 [00:19<00:00, 28.75it/s]\n[6 / 50]   Val: Loss = 0.06341, Accuracy = 92.94%: 100%|██████████| 13/13 [00:00<00:00, 22.02it/s]\n[7 / 50] Train: Loss = 0.02744, Accuracy = 97.14%: 100%|██████████| 572/572 [00:19<00:00, 29.11it/s]\n[7 / 50]   Val: Loss = 0.06641, Accuracy = 93.09%: 100%|██████████| 13/13 [00:00<00:00, 17.24it/s]\n[8 / 50] Train: Loss = 0.02262, Accuracy = 97.64%: 100%|██████████| 572/572 [00:19<00:00, 29.36it/s]\n[8 / 50]   Val: Loss = 0.06600, Accuracy = 93.22%: 100%|██████████| 13/13 [00:00<00:00, 20.05it/s]\n[9 / 50] Train: Loss = 0.01880, Accuracy = 98.02%: 100%|██████████| 572/572 [00:19<00:00, 29.36it/s]\n[9 / 50]   Val: Loss = 0.07493, Accuracy = 93.29%: 100%|██████████| 13/13 [00:00<00:00, 21.23it/s]\n[10 / 50] Train: Loss = 0.01574, Accuracy = 98.36%: 100%|██████████| 572/572 [00:19<00:00, 29.35it/s]\n[10 / 50]   Val: Loss = 0.07682, Accuracy = 93.29%: 100%|██████████| 13/13 [00:00<00:00, 21.02it/s]\n[11 / 50] Train: Loss = 0.01292, Accuracy = 98.66%: 100%|██████████| 572/572 [00:19<00:00, 29.50it/s]\n[11 / 50]   Val: Loss = 0.06818, Accuracy = 93.22%: 100%|██████████| 13/13 [00:00<00:00, 19.23it/s]\n[12 / 50] Train: Loss = 0.01080, Accuracy = 98.91%: 100%|██████████| 572/572 [00:19<00:00, 28.65it/s]\n[12 / 50]   Val: Loss = 0.07872, Accuracy = 93.25%: 100%|██████████| 13/13 [00:00<00:00, 19.81it/s]\n[13 / 50] Train: Loss = 0.00872, Accuracy = 99.13%: 100%|██████████| 572/572 [00:20<00:00, 28.47it/s]\n[13 / 50]   Val: Loss = 0.07699, Accuracy = 93.17%: 100%|██████████| 13/13 [00:00<00:00, 19.54it/s]\n[14 / 50] Train: Loss = 0.00713, Accuracy = 99.31%: 100%|██████████| 572/572 [00:19<00:00, 28.95it/s]\n[14 / 50]   Val: Loss = 0.07718, Accuracy = 93.13%: 100%|██████████| 13/13 [00:00<00:00, 20.30it/s]\n[15 / 50] Train: Loss = 0.00585, Accuracy = 99.44%: 100%|██████████| 572/572 [00:19<00:00, 28.65it/s]\n[15 / 50]   Val: Loss = 0.08840, Accuracy = 93.10%: 100%|██████████| 13/13 [00:00<00:00, 20.37it/s]\n[16 / 50] Train: Loss = 0.00467, Accuracy = 99.56%: 100%|██████████| 572/572 [00:20<00:00, 28.19it/s]\n[16 / 50]   Val: Loss = 0.08569, Accuracy = 93.21%: 100%|██████████| 13/13 [00:00<00:00, 19.87it/s]\n[17 / 50] Train: Loss = 0.00386, Accuracy = 99.65%: 100%|██████████| 572/572 [00:19<00:00, 28.60it/s]\n[17 / 50]   Val: Loss = 0.09071, Accuracy = 93.14%: 100%|██████████| 13/13 [00:00<00:00, 21.26it/s]\n[18 / 50] Train: Loss = 0.00317, Accuracy = 99.72%: 100%|██████████| 572/572 [00:20<00:00, 28.45it/s]\n[18 / 50]   Val: Loss = 0.10179, Accuracy = 93.10%: 100%|██████████| 13/13 [00:00<00:00, 20.96it/s]\n[19 / 50] Train: Loss = 0.00275, Accuracy = 99.76%: 100%|██████████| 572/572 [00:20<00:00, 28.28it/s]\n[19 / 50]   Val: Loss = 0.10006, Accuracy = 93.16%: 100%|██████████| 13/13 [00:00<00:00, 19.90it/s]\n[20 / 50] Train: Loss = 0.00246, Accuracy = 99.78%: 100%|██████████| 572/572 [00:20<00:00, 28.17it/s]\n[20 / 50]   Val: Loss = 0.10630, Accuracy = 93.12%: 100%|██████████| 13/13 [00:00<00:00, 20.24it/s]\n[21 / 50] Train: Loss = 0.00214, Accuracy = 99.80%: 100%|██████████| 572/572 [00:20<00:00, 28.58it/s]\n[21 / 50]   Val: Loss = 0.10591, Accuracy = 93.03%: 100%|██████████| 13/13 [00:00<00:00, 21.62it/s]\n[22 / 50] Train: Loss = 0.00206, Accuracy = 99.80%: 100%|██████████| 572/572 [00:20<00:00, 28.52it/s]\n[22 / 50]   Val: Loss = 0.11642, Accuracy = 93.09%: 100%|██████████| 13/13 [00:00<00:00, 22.09it/s]\n[23 / 50] Train: Loss = 0.00226, Accuracy = 99.78%: 100%|██████████| 572/572 [00:20<00:00, 28.37it/s]\n[23 / 50]   Val: Loss = 0.11136, Accuracy = 93.06%: 100%|██████████| 13/13 [00:00<00:00, 21.02it/s]\n[24 / 50] Train: Loss = 0.00181, Accuracy = 99.82%: 100%|██████████| 572/572 [00:20<00:00, 28.41it/s]\n[24 / 50]   Val: Loss = 0.12567, Accuracy = 93.04%: 100%|██████████| 13/13 [00:00<00:00, 22.55it/s]\n[25 / 50] Train: Loss = 0.00169, Accuracy = 99.82%: 100%|██████████| 572/572 [00:19<00:00, 28.97it/s]\n[25 / 50]   Val: Loss = 0.11467, Accuracy = 93.15%: 100%|██████████| 13/13 [00:00<00:00, 20.86it/s]\n[26 / 50] Train: Loss = 0.00166, Accuracy = 99.82%: 100%|██████████| 572/572 [00:19<00:00, 28.99it/s]\n[26 / 50]   Val: Loss = 0.12000, Accuracy = 92.99%: 100%|██████████| 13/13 [00:00<00:00, 21.23it/s]\n[27 / 50] Train: Loss = 0.00193, Accuracy = 99.80%: 100%|██████████| 572/572 [00:20<00:00, 28.49it/s]\n[27 / 50]   Val: Loss = 0.12559, Accuracy = 93.07%: 100%|██████████| 13/13 [00:00<00:00, 20.99it/s]\n[28 / 50] Train: Loss = 0.00171, Accuracy = 99.82%: 100%|██████████| 572/572 [00:20<00:00, 27.84it/s]\n[28 / 50]   Val: Loss = 0.12200, Accuracy = 93.04%: 100%|██████████| 13/13 [00:00<00:00, 20.18it/s]\n[29 / 50] Train: Loss = 0.00166, Accuracy = 99.82%: 100%|██████████| 572/572 [00:20<00:00, 28.49it/s]\n[29 / 50]   Val: Loss = 0.12943, Accuracy = 93.06%: 100%|██████████| 13/13 [00:00<00:00, 19.75it/s]\n[30 / 50] Train: Loss = 0.00158, Accuracy = 99.83%: 100%|██████████| 572/572 [00:20<00:00, 28.30it/s]\n[30 / 50]   Val: Loss = 0.13120, Accuracy = 93.11%: 100%|██████████| 13/13 [00:00<00:00, 20.76it/s]\n[31 / 50] Train: Loss = 0.00143, Accuracy = 99.84%: 100%|██████████| 572/572 [00:19<00:00, 28.92it/s]\n[31 / 50]   Val: Loss = 0.13153, Accuracy = 93.15%: 100%|██████████| 13/13 [00:00<00:00, 18.89it/s]\n[32 / 50] Train: Loss = 0.00151, Accuracy = 99.83%: 100%|██████████| 572/572 [00:19<00:00, 29.49it/s]\n[32 / 50]   Val: Loss = 0.13177, Accuracy = 93.12%: 100%|██████████| 13/13 [00:00<00:00, 24.92it/s]\n[33 / 50] Train: Loss = 0.00151, Accuracy = 99.83%: 100%|██████████| 572/572 [00:17<00:00, 32.24it/s]\n[33 / 50]   Val: Loss = 0.13698, Accuracy = 93.17%: 100%|██████████| 13/13 [00:00<00:00, 26.39it/s]\n[34 / 50] Train: Loss = 0.00145, Accuracy = 99.84%: 100%|██████████| 572/572 [00:17<00:00, 32.07it/s]\n[34 / 50]   Val: Loss = 0.14288, Accuracy = 93.12%: 100%|██████████| 13/13 [00:00<00:00, 24.18it/s]\n[35 / 50] Train: Loss = 0.00149, Accuracy = 99.83%: 100%|██████████| 572/572 [00:18<00:00, 30.72it/s]\n[35 / 50]   Val: Loss = 0.13196, Accuracy = 93.10%: 100%|██████████| 13/13 [00:00<00:00, 25.81it/s]\n[36 / 50] Train: Loss = 0.00179, Accuracy = 99.79%: 100%|██████████| 572/572 [00:18<00:00, 31.71it/s]\n[36 / 50]   Val: Loss = 0.15199, Accuracy = 93.11%: 100%|██████████| 13/13 [00:00<00:00, 26.12it/s]\n[37 / 50] Train: Loss = 0.00159, Accuracy = 99.82%: 100%|██████████| 572/572 [00:17<00:00, 31.88it/s]\n[37 / 50]   Val: Loss = 0.14902, Accuracy = 93.21%: 100%|██████████| 13/13 [00:00<00:00, 25.21it/s]\n[38 / 50] Train: Loss = 0.00135, Accuracy = 99.84%: 100%|██████████| 572/572 [00:17<00:00, 31.91it/s]\n[38 / 50]   Val: Loss = 0.13471, Accuracy = 93.17%: 100%|██████████| 13/13 [00:00<00:00, 21.55it/s]\n[39 / 50] Train: Loss = 0.00129, Accuracy = 99.84%: 100%|██████████| 572/572 [00:18<00:00, 31.40it/s]\n[39 / 50]   Val: Loss = 0.16184, Accuracy = 93.17%: 100%|██████████| 13/13 [00:00<00:00, 27.50it/s]\n[40 / 50] Train: Loss = 0.00131, Accuracy = 99.84%: 100%|██████████| 572/572 [00:17<00:00, 32.08it/s]\n[40 / 50]   Val: Loss = 0.15413, Accuracy = 93.20%: 100%|██████████| 13/13 [00:00<00:00, 26.02it/s]\n[41 / 50] Train: Loss = 0.00142, Accuracy = 99.84%: 100%|██████████| 572/572 [00:17<00:00, 31.93it/s]\n[41 / 50]   Val: Loss = 0.15662, Accuracy = 93.00%: 100%|██████████| 13/13 [00:00<00:00, 25.26it/s]\n[42 / 50] Train: Loss = 0.00219, Accuracy = 99.75%: 100%|██████████| 572/572 [00:18<00:00, 30.70it/s]\n[42 / 50]   Val: Loss = 0.17055, Accuracy = 93.14%: 100%|██████████| 13/13 [00:00<00:00, 27.62it/s]\n[43 / 50] Train: Loss = 0.00133, Accuracy = 99.85%: 100%|██████████| 572/572 [00:17<00:00, 32.16it/s]\n[43 / 50]   Val: Loss = 0.16147, Accuracy = 93.19%: 100%|██████████| 13/13 [00:00<00:00, 25.91it/s]\n[44 / 50] Train: Loss = 0.00122, Accuracy = 99.85%: 100%|██████████| 572/572 [00:17<00:00, 32.07it/s]\n[44 / 50]   Val: Loss = 0.16046, Accuracy = 93.14%: 100%|██████████| 13/13 [00:00<00:00, 24.97it/s]\n[45 / 50] Train: Loss = 0.00122, Accuracy = 99.85%: 100%|██████████| 572/572 [00:18<00:00, 31.52it/s]\n[45 / 50]   Val: Loss = 0.15889, Accuracy = 93.13%: 100%|██████████| 13/13 [00:00<00:00, 25.12it/s]\n[46 / 50] Train: Loss = 0.00122, Accuracy = 99.85%: 100%|██████████| 572/572 [00:18<00:00, 31.06it/s]\n[46 / 50]   Val: Loss = 0.16216, Accuracy = 93.20%: 100%|██████████| 13/13 [00:00<00:00, 26.60it/s]\n[47 / 50] Train: Loss = 0.00127, Accuracy = 99.84%: 100%|██████████| 572/572 [00:17<00:00, 32.30it/s]\n[47 / 50]   Val: Loss = 0.15779, Accuracy = 93.15%: 100%|██████████| 13/13 [00:00<00:00, 26.23it/s]\n[48 / 50] Train: Loss = 0.00132, Accuracy = 99.84%: 100%|██████████| 572/572 [00:17<00:00, 31.93it/s]\n[48 / 50]   Val: Loss = 0.16695, Accuracy = 93.13%: 100%|██████████| 13/13 [00:00<00:00, 25.76it/s]\n[49 / 50] Train: Loss = 0.00221, Accuracy = 99.75%: 100%|██████████| 572/572 [00:18<00:00, 30.77it/s]\n[49 / 50]   Val: Loss = 0.16260, Accuracy = 93.10%: 100%|██████████| 13/13 [00:00<00:00, 24.46it/s]\n[50 / 50] Train: Loss = 0.00166, Accuracy = 99.80%: 100%|██████████| 572/572 [00:17<00:00, 32.23it/s]\n[50 / 50]   Val: Loss = 0.16771, Accuracy = 93.18%: 100%|██████████| 13/13 [00:00<00:00, 27.21it/s]\n"
    }
   ],
   "source": [
    "model = LSTMTagger(\n",
    "    vocab_size=len(word2ind),\n",
    "    tagset_size=len(tag2ind)\n",
    ").cuda()\n",
    "\n",
    "criterion = nn.CrossEntropyLoss().cuda()\n",
    "optimizer = optim.Adam(model.parameters())\n",
    "\n",
    "fit(model, criterion, optimizer, train_data=(X_train, y_train), epochs_count=50,\n",
    "    batch_size=64, val_data=(X_val, y_val), val_batch_size=512)"
   ]
  },
  {
   "cell_type": "markdown",
   "metadata": {
    "colab_type": "text",
    "id": "m0qGetIhfUE5"
   },
   "source": [
    "### Masking\n",
    "\n",
    "**Задание** Проверьте себя - не считаете ли вы потери и accuracy на паддингах - очень легко получить высокое качество за счет этого.\n",
    "\n",
    "У функции потерь есть параметр `ignore_index`, для таких целей. Для accuracy нужно использовать маскинг - умножение на маску из нулей и единиц, где нули на позициях паддингов (а потом усреднение по ненулевым позициям в маске)."
   ]
  },
  {
   "cell_type": "markdown",
   "metadata": {
    "colab_type": "text",
    "id": "nAfV2dEOfHo5"
   },
   "source": [
    "**Задание** Посчитайте качество модели на тесте. Ожидается результат лучше бейзлайна!"
   ]
  },
  {
   "cell_type": "code",
   "execution_count": 18,
   "metadata": {
    "colab": {},
    "colab_type": "code",
    "id": "98wr38_rw55D"
   },
   "outputs": [
    {
     "output_type": "stream",
     "name": "stdout",
     "text": "Accuracy on a training set =0.9325573469113744\n"
    }
   ],
   "source": [
    "count, total_count = 0, 0\n",
    "\n",
    "for (X_batch, y_batch) in iterate_batches((X_test, y_test), 64):\n",
    "                X_batch, y_batch = LongTensor(X_batch), LongTensor(y_batch)\n",
    "                logits = model(X_batch)\n",
    "                cur_correct_count, cur_sum_count = calc_accuracy(logits, y_batch)\n",
    "\n",
    "                count += cur_correct_count\n",
    "                total_count += cur_sum_count\n",
    "print(\"Accuracy on a training set = \", count/total_count)"
   ]
  },
  {
   "cell_type": "markdown",
   "metadata": {
    "colab_type": "text",
    "id": "PXUTSFaEHbDG"
   },
   "source": [
    "### Bidirectional LSTM\n",
    "\n",
    "Благодаря BiLSTM можно использовать сразу оба контеста при предсказании тега слова. Т.е. для каждого токена $w_i$ forward LSTM будет выдавать представление $\\mathbf{f_i} \\sim (w_1, \\ldots, w_i)$ - построенное по всему левому контексту - и $\\mathbf{b_i} \\sim (w_n, \\ldots, w_i)$ - представление правого контекста. Их конкатенация автоматически захватит весь доступный контекст слова: $\\mathbf{h_i} = [\\mathbf{f_i}, \\mathbf{b_i}] \\sim (w_1, \\ldots, w_n)$.\n",
    "\n",
    "![BiLSTM](https://www.researchgate.net/profile/Wang_Ling/publication/280912217/figure/fig2/AS:391505383575555@1470353565299/Illustration-of-our-neural-network-for-POS-tagging.png)  \n",
    "*From [Finding Function in Form: Compositional Character Models for Open Vocabulary Word Representation](https://arxiv.org/abs/1508.02096)*\n",
    "\n",
    "**Задание** Добавьте Bidirectional LSTM."
   ]
  },
  {
   "cell_type": "code",
   "execution_count": 19,
   "metadata": {},
   "outputs": [],
   "source": [
    "class BiRNN(nn.Module):\n",
    "    def __init__(self, vocab_size, tagset_size, word_emb_dim=100, lstm_hidden_dim=128, lstm_layers_count=1):\n",
    "        super().__init__()\n",
    "        self.word_embeddings = nn.Embedding(vocab_size, word_emb_dim)\n",
    "        self.lstm = nn.LSTM(word_emb_dim,  lstm_hidden_dim, num_layers=lstm_layers_count, bidirectional=True)\n",
    "        self.hidden2tag = nn.Linear(2 * lstm_hidden_dim, tagset_size)\n",
    "    def forward(self, inputs):\n",
    "        embeds = self.word_embeddings(inputs)\n",
    "        lstm_out, _ = self.lstm(embeds)\n",
    "        tag_scores = self.hidden2tag(lstm_out)\n",
    "        return tag_scores"
   ]
  },
  {
   "cell_type": "code",
   "execution_count": 20,
   "metadata": {},
   "outputs": [
    {
     "output_type": "stream",
     "name": "stderr",
     "text": "[1 / 50] Train: Loss = 0.25575, Accuracy = 76.56%: 100%|██████████| 572/572 [00:19<00:00, 29.15it/s]\n[1 / 50]   Val: Loss = 0.07458, Accuracy = 89.39%: 100%|██████████| 13/13 [00:00<00:00, 16.99it/s]\n[2 / 50] Train: Loss = 0.07653, Accuracy = 92.51%: 100%|██████████| 572/572 [00:20<00:00, 28.31it/s]\n[2 / 50]   Val: Loss = 0.05182, Accuracy = 93.21%: 100%|██████████| 13/13 [00:00<00:00, 16.13it/s]\n[3 / 50] Train: Loss = 0.04975, Accuracy = 95.29%: 100%|██████████| 572/572 [00:19<00:00, 28.95it/s]\n[3 / 50]   Val: Loss = 0.04556, Accuracy = 94.62%: 100%|██████████| 13/13 [00:00<00:00, 19.11it/s]\n[4 / 50] Train: Loss = 0.03508, Accuracy = 96.70%: 100%|██████████| 572/572 [00:19<00:00, 29.19it/s]\n[4 / 50]   Val: Loss = 0.04192, Accuracy = 95.37%: 100%|██████████| 13/13 [00:00<00:00, 19.69it/s]\n[5 / 50] Train: Loss = 0.02592, Accuracy = 97.59%: 100%|██████████| 572/572 [00:19<00:00, 29.07it/s]\n[5 / 50]   Val: Loss = 0.04183, Accuracy = 95.76%: 100%|██████████| 13/13 [00:00<00:00, 19.28it/s]\n[6 / 50] Train: Loss = 0.01886, Accuracy = 98.26%: 100%|██████████| 572/572 [00:20<00:00, 28.58it/s]\n[6 / 50]   Val: Loss = 0.04286, Accuracy = 96.04%: 100%|██████████| 13/13 [00:00<00:00, 19.25it/s]\n[7 / 50] Train: Loss = 0.01354, Accuracy = 98.78%: 100%|██████████| 572/572 [00:19<00:00, 29.11it/s]\n[7 / 50]   Val: Loss = 0.04364, Accuracy = 96.13%: 100%|██████████| 13/13 [00:00<00:00, 18.76it/s]\n[8 / 50] Train: Loss = 0.00963, Accuracy = 99.17%: 100%|██████████| 572/572 [00:19<00:00, 28.68it/s]\n[8 / 50]   Val: Loss = 0.04279, Accuracy = 96.25%: 100%|██████████| 13/13 [00:00<00:00, 18.41it/s]\n[9 / 50] Train: Loss = 0.00647, Accuracy = 99.47%: 100%|██████████| 572/572 [00:20<00:00, 28.45it/s]\n[9 / 50]   Val: Loss = 0.04528, Accuracy = 96.25%: 100%|██████████| 13/13 [00:00<00:00, 18.57it/s]\n[10 / 50] Train: Loss = 0.00432, Accuracy = 99.66%: 100%|██████████| 572/572 [00:19<00:00, 29.25it/s]\n[10 / 50]   Val: Loss = 0.04616, Accuracy = 96.30%: 100%|██████████| 13/13 [00:00<00:00, 17.98it/s]\n[11 / 50] Train: Loss = 0.00274, Accuracy = 99.81%: 100%|██████████| 572/572 [00:19<00:00, 29.10it/s]\n[11 / 50]   Val: Loss = 0.04999, Accuracy = 96.38%: 100%|██████████| 13/13 [00:00<00:00, 16.13it/s]\n[12 / 50] Train: Loss = 0.00170, Accuracy = 99.90%: 100%|██████████| 572/572 [00:20<00:00, 28.10it/s]\n[12 / 50]   Val: Loss = 0.05731, Accuracy = 96.33%: 100%|██████████| 13/13 [00:00<00:00, 19.63it/s]\n[13 / 50] Train: Loss = 0.00107, Accuracy = 99.95%: 100%|██████████| 572/572 [00:19<00:00, 29.23it/s]\n[13 / 50]   Val: Loss = 0.05271, Accuracy = 96.35%: 100%|██████████| 13/13 [00:00<00:00, 18.62it/s]\n[14 / 50] Train: Loss = 0.00074, Accuracy = 99.97%: 100%|██████████| 572/572 [00:19<00:00, 29.54it/s]\n[14 / 50]   Val: Loss = 0.05843, Accuracy = 96.39%: 100%|██████████| 13/13 [00:00<00:00, 18.78it/s]\n[15 / 50] Train: Loss = 0.00043, Accuracy = 99.99%: 100%|██████████| 572/572 [00:20<00:00, 28.35it/s]\n[15 / 50]   Val: Loss = 0.06200, Accuracy = 96.36%: 100%|██████████| 13/13 [00:00<00:00, 19.34it/s]\n[16 / 50] Train: Loss = 0.00040, Accuracy = 99.99%: 100%|██████████| 572/572 [00:19<00:00, 29.49it/s]\n[16 / 50]   Val: Loss = 0.06103, Accuracy = 96.36%: 100%|██████████| 13/13 [00:00<00:00, 18.65it/s]\n[17 / 50] Train: Loss = 0.00102, Accuracy = 99.92%: 100%|██████████| 572/572 [00:19<00:00, 29.51it/s]\n[17 / 50]   Val: Loss = 0.06818, Accuracy = 96.31%: 100%|██████████| 13/13 [00:00<00:00, 19.45it/s]\n[18 / 50] Train: Loss = 0.00094, Accuracy = 99.92%: 100%|██████████| 572/572 [00:20<00:00, 28.46it/s]\n[18 / 50]   Val: Loss = 0.06316, Accuracy = 96.40%: 100%|██████████| 13/13 [00:00<00:00, 16.67it/s]\n[19 / 50] Train: Loss = 0.00026, Accuracy = 99.99%: 100%|██████████| 572/572 [00:19<00:00, 29.41it/s]\n[19 / 50]   Val: Loss = 0.06416, Accuracy = 96.46%: 100%|██████████| 13/13 [00:00<00:00, 18.33it/s]\n[20 / 50] Train: Loss = 0.00009, Accuracy = 100.00%: 100%|██████████| 572/572 [00:19<00:00, 29.45it/s]\n[20 / 50]   Val: Loss = 0.07210, Accuracy = 96.51%: 100%|██████████| 13/13 [00:00<00:00, 19.14it/s]\n[21 / 50] Train: Loss = 0.00005, Accuracy = 100.00%: 100%|██████████| 572/572 [00:19<00:00, 28.88it/s]\n[21 / 50]   Val: Loss = 0.07252, Accuracy = 96.50%: 100%|██████████| 13/13 [00:00<00:00, 19.99it/s]\n[22 / 50] Train: Loss = 0.00005, Accuracy = 100.00%: 100%|██████████| 572/572 [00:21<00:00, 26.74it/s]\n[22 / 50]   Val: Loss = 0.07233, Accuracy = 96.48%: 100%|██████████| 13/13 [00:00<00:00, 17.69it/s]\n[23 / 50] Train: Loss = 0.00080, Accuracy = 99.92%: 100%|██████████| 572/572 [00:20<00:00, 28.45it/s]\n[23 / 50]   Val: Loss = 0.07521, Accuracy = 96.09%: 100%|██████████| 13/13 [00:00<00:00, 19.87it/s]\n[24 / 50] Train: Loss = 0.00155, Accuracy = 99.84%: 100%|██████████| 572/572 [00:19<00:00, 28.82it/s]\n[24 / 50]   Val: Loss = 0.06894, Accuracy = 96.40%: 100%|██████████| 13/13 [00:00<00:00, 18.89it/s]\n[25 / 50] Train: Loss = 0.00022, Accuracy = 99.99%: 100%|██████████| 572/572 [00:20<00:00, 28.58it/s]\n[25 / 50]   Val: Loss = 0.06977, Accuracy = 96.48%: 100%|██████████| 13/13 [00:00<00:00, 18.67it/s]\n[26 / 50] Train: Loss = 0.00006, Accuracy = 100.00%: 100%|██████████| 572/572 [00:19<00:00, 29.34it/s]\n[26 / 50]   Val: Loss = 0.07546, Accuracy = 96.46%: 100%|██████████| 13/13 [00:00<00:00, 19.37it/s]\n[27 / 50] Train: Loss = 0.00004, Accuracy = 100.00%: 100%|██████████| 572/572 [00:19<00:00, 29.16it/s]\n[27 / 50]   Val: Loss = 0.07678, Accuracy = 96.48%: 100%|██████████| 13/13 [00:00<00:00, 17.17it/s]\n[28 / 50] Train: Loss = 0.00003, Accuracy = 100.00%: 100%|██████████| 572/572 [00:20<00:00, 28.20it/s]\n[28 / 50]   Val: Loss = 0.07568, Accuracy = 96.46%: 100%|██████████| 13/13 [00:00<00:00, 19.23it/s]\n[29 / 50] Train: Loss = 0.00002, Accuracy = 100.00%: 100%|██████████| 572/572 [00:19<00:00, 29.45it/s]\n[29 / 50]   Val: Loss = 0.07227, Accuracy = 96.47%: 100%|██████████| 13/13 [00:00<00:00, 18.62it/s]\n[30 / 50] Train: Loss = 0.00003, Accuracy = 100.00%: 100%|██████████| 572/572 [00:19<00:00, 29.28it/s]\n[30 / 50]   Val: Loss = 0.07701, Accuracy = 96.46%: 100%|██████████| 13/13 [00:00<00:00, 19.20it/s]\n[31 / 50] Train: Loss = 0.00003, Accuracy = 100.00%: 100%|██████████| 572/572 [00:20<00:00, 27.91it/s]\n[31 / 50]   Val: Loss = 0.08211, Accuracy = 96.46%: 100%|██████████| 13/13 [00:00<00:00, 19.57it/s]\n[32 / 50] Train: Loss = 0.00174, Accuracy = 99.82%: 100%|██████████| 572/572 [00:19<00:00, 28.86it/s]\n[32 / 50]   Val: Loss = 0.07948, Accuracy = 96.25%: 100%|██████████| 13/13 [00:00<00:00, 19.23it/s]\n[33 / 50] Train: Loss = 0.00059, Accuracy = 99.94%: 100%|██████████| 572/572 [00:19<00:00, 29.15it/s]\n[33 / 50]   Val: Loss = 0.08801, Accuracy = 96.29%: 100%|██████████| 13/13 [00:00<00:00, 20.05it/s]\n[34 / 50] Train: Loss = 0.00010, Accuracy = 100.00%: 100%|██████████| 572/572 [00:20<00:00, 27.82it/s]\n[34 / 50]   Val: Loss = 0.07911, Accuracy = 96.36%: 100%|██████████| 13/13 [00:00<00:00, 19.08it/s]\n[35 / 50] Train: Loss = 0.00004, Accuracy = 100.00%: 100%|██████████| 572/572 [00:19<00:00, 28.99it/s]\n[35 / 50]   Val: Loss = 0.08000, Accuracy = 96.37%: 100%|██████████| 13/13 [00:00<00:00, 18.70it/s]\n[36 / 50] Train: Loss = 0.00002, Accuracy = 100.00%: 100%|██████████| 572/572 [00:19<00:00, 29.23it/s]\n[36 / 50]   Val: Loss = 0.08067, Accuracy = 96.38%: 100%|██████████| 13/13 [00:00<00:00, 18.41it/s]\n[37 / 50] Train: Loss = 0.00002, Accuracy = 100.00%: 100%|██████████| 572/572 [00:20<00:00, 28.20it/s]\n[37 / 50]   Val: Loss = 0.08241, Accuracy = 96.35%: 100%|██████████| 13/13 [00:00<00:00, 16.29it/s]\n[38 / 50] Train: Loss = 0.00002, Accuracy = 100.00%: 100%|██████████| 572/572 [00:19<00:00, 28.76it/s]\n[38 / 50]   Val: Loss = 0.08772, Accuracy = 96.37%: 100%|██████████| 13/13 [00:00<00:00, 18.84it/s]\n[39 / 50] Train: Loss = 0.00002, Accuracy = 100.00%: 100%|██████████| 572/572 [00:19<00:00, 29.00it/s]\n[39 / 50]   Val: Loss = 0.08820, Accuracy = 96.38%: 100%|██████████| 13/13 [00:00<00:00, 19.31it/s]\n[40 / 50] Train: Loss = 0.00002, Accuracy = 100.00%: 100%|██████████| 572/572 [00:19<00:00, 28.68it/s]\n[40 / 50]   Val: Loss = 0.08675, Accuracy = 96.26%: 100%|██████████| 13/13 [00:00<00:00, 18.78it/s]\n[41 / 50] Train: Loss = 0.00146, Accuracy = 99.85%: 100%|██████████| 572/572 [00:20<00:00, 28.29it/s]\n[41 / 50]   Val: Loss = 0.08080, Accuracy = 96.23%: 100%|██████████| 13/13 [00:00<00:00, 18.76it/s]\n[42 / 50] Train: Loss = 0.00060, Accuracy = 99.94%: 100%|██████████| 572/572 [00:19<00:00, 28.81it/s]\n[42 / 50]   Val: Loss = 0.08695, Accuracy = 96.29%: 100%|██████████| 13/13 [00:00<00:00, 19.84it/s]\n[43 / 50] Train: Loss = 0.00011, Accuracy = 99.99%: 100%|██████████| 572/572 [00:19<00:00, 28.68it/s]\n[43 / 50]   Val: Loss = 0.08958, Accuracy = 96.31%: 100%|██████████| 13/13 [00:00<00:00, 18.59it/s]\n[44 / 50] Train: Loss = 0.00003, Accuracy = 100.00%: 100%|██████████| 572/572 [00:20<00:00, 28.25it/s]\n[44 / 50]   Val: Loss = 0.08746, Accuracy = 96.34%: 100%|██████████| 13/13 [00:00<00:00, 18.97it/s]\n[45 / 50] Train: Loss = 0.00002, Accuracy = 100.00%: 100%|██████████| 572/572 [00:19<00:00, 29.11it/s]\n[45 / 50]   Val: Loss = 0.09427, Accuracy = 96.36%: 100%|██████████| 13/13 [00:00<00:00, 20.12it/s]\n[46 / 50] Train: Loss = 0.00002, Accuracy = 100.00%: 100%|██████████| 572/572 [00:19<00:00, 28.95it/s]\n[46 / 50]   Val: Loss = 0.09289, Accuracy = 96.37%: 100%|██████████| 13/13 [00:00<00:00, 18.33it/s]\n[47 / 50] Train: Loss = 0.00002, Accuracy = 100.00%: 100%|██████████| 572/572 [00:20<00:00, 27.55it/s]\n[47 / 50]   Val: Loss = 0.09667, Accuracy = 96.35%: 100%|██████████| 13/13 [00:00<00:00, 19.45it/s]\n[48 / 50] Train: Loss = 0.00001, Accuracy = 100.00%: 100%|██████████| 572/572 [00:19<00:00, 28.93it/s]\n[48 / 50]   Val: Loss = 0.08588, Accuracy = 96.35%: 100%|██████████| 13/13 [00:00<00:00, 18.03it/s]\n[49 / 50] Train: Loss = 0.00001, Accuracy = 100.00%: 100%|██████████| 572/572 [00:19<00:00, 29.01it/s]\n[49 / 50]   Val: Loss = 0.09777, Accuracy = 96.36%: 100%|██████████| 13/13 [00:00<00:00, 19.48it/s]\n[50 / 50] Train: Loss = 0.00001, Accuracy = 100.00%: 100%|██████████| 572/572 [00:20<00:00, 27.82it/s]\n[50 / 50]   Val: Loss = 0.09046, Accuracy = 96.39%: 100%|██████████| 13/13 [00:00<00:00, 18.33it/s]\n"
    }
   ],
   "source": [
    "BiModel = BiRNN(vocab_size=len(word2ind),\n",
    "    tagset_size=len(tag2ind)).cuda()\n",
    "\n",
    "criterion = nn.CrossEntropyLoss().cuda()\n",
    "optimizer = optim.Adam(BiModel.parameters())\n",
    "\n",
    "fit(BiModel, criterion, optimizer, train_data=(X_train, y_train), epochs_count=50,\n",
    "    batch_size=64, val_data=(X_val, y_val), val_batch_size=512)"
   ]
  },
  {
   "cell_type": "code",
   "execution_count": 21,
   "metadata": {},
   "outputs": [
    {
     "output_type": "stream",
     "name": "stdout",
     "text": "Accuracy on a training set =0.964560762077881\n"
    }
   ],
   "source": [
    "count, total_count = 0, 0\n",
    "\n",
    "for (X_batch, y_batch) in iterate_batches((X_test, y_test), 64):\n",
    "                X_batch, y_batch = LongTensor(X_batch), LongTensor(y_batch)\n",
    "                logits = BiModel(X_batch)\n",
    "                cur_correct_count, cur_sum_count = calc_accuracy(logits, y_batch)\n",
    "\n",
    "                count += cur_correct_count\n",
    "                total_count += cur_sum_count\n",
    "print(\"Accuracy on a training set = \", count/total_count)"
   ]
  },
  {
   "cell_type": "markdown",
   "metadata": {
    "colab_type": "text",
    "id": "ZTXmYGD_ANhm"
   },
   "source": [
    "### Предобученные эмбеддинги\n",
    "\n",
    "Мы знаем, какая клёвая вещь - предобученные эмбеддинги. При текущем размере обучающей выборки еще можно было учить их и с нуля - с меньшей было бы совсем плохо.\n",
    "\n",
    "Поэтому стандартный пайплайн - скачать эмбеддинги, засунуть их в сеточку. Запустим его:"
   ]
  },
  {
   "cell_type": "code",
   "execution_count": 22,
   "metadata": {
    "colab": {},
    "colab_type": "code",
    "id": "uZpY_Q1xZ18h"
   },
   "outputs": [],
   "source": [
    "import gensim.downloader as api\n",
    "\n",
    "w2v_model = api.load('glove-wiki-gigaword-100')"
   ]
  },
  {
   "cell_type": "markdown",
   "metadata": {
    "colab_type": "text",
    "id": "KYogOoKlgtcf"
   },
   "source": [
    "Построим подматрицу для слов из нашей тренировочной выборки:"
   ]
  },
  {
   "cell_type": "code",
   "execution_count": 23,
   "metadata": {
    "colab": {},
    "colab_type": "code",
    "id": "VsCstxiO03oT"
   },
   "outputs": [
    {
     "output_type": "stream",
     "name": "stdout",
     "text": "Know 38736 out of 45441 word embeddings\n"
    }
   ],
   "source": [
    "known_count = 0\n",
    "embeddings = np.zeros((len(word2ind), w2v_model.vectors.shape[1]))\n",
    "for word, ind in word2ind.items():\n",
    "    word = word.lower()\n",
    "    if word in w2v_model.vocab:\n",
    "        embeddings[ind] = w2v_model.get_vector(word)\n",
    "        known_count += 1\n",
    "        \n",
    "print('Know {} out of {} word embeddings'.format(known_count, len(word2ind)))"
   ]
  },
  {
   "cell_type": "markdown",
   "metadata": {
    "colab_type": "text",
    "id": "HcG7i-R8hbY3"
   },
   "source": [
    "**Задание** Сделайте модель с предобученной матрицей. Используйте `nn.Embedding.from_pretrained`."
   ]
  },
  {
   "cell_type": "code",
   "execution_count": 24,
   "metadata": {
    "colab": {},
    "colab_type": "code",
    "id": "LxaRBpQd0pat"
   },
   "outputs": [],
   "source": [
    "class LSTMTaggerWithPretrainedEmbs(nn.Module):\n",
    "    def __init__(self, embeddings, tagset_size, lstm_hidden_dim=256, lstm_layers_count=2):\n",
    "        super().__init__()\n",
    "        \n",
    "        self.word_embeddings = nn.Embedding.from_pretrained(FloatTensor(embeddings))\n",
    "        self.lstm = nn.LSTM(embeddings.shape[1], lstm_hidden_dim, num_layers=lstm_layers_count, bidirectional=True)\n",
    "        self.hidden2tag = nn.Linear(2 * lstm_hidden_dim, tagset_size)\n",
    "\n",
    "    def forward(self, inputs):\n",
    "        embeds = self.word_embeddings(inputs)\n",
    "        lstm_out, _ = self.lstm(embeds)\n",
    "        tag_scores = self.hidden2tag(lstm_out)\n",
    "        return tag_scores"
   ]
  },
  {
   "cell_type": "code",
   "execution_count": 25,
   "metadata": {
    "colab": {},
    "colab_type": "code",
    "id": "EBtI6BDE-Fc7"
   },
   "outputs": [
    {
     "output_type": "stream",
     "name": "stderr",
     "text": "[1 / 50] Train: Loss = 0.33971, Accuracy = 89.29%: 100%|██████████| 572/572 [00:55<00:00, 10.33it/s]\n[1 / 50]   Val: Loss = 0.16130, Accuracy = 94.91%: 100%|██████████| 13/13 [00:04<00:00,  3.05it/s]\n[2 / 50] Train: Loss = 0.10228, Accuracy = 96.78%: 100%|██████████| 572/572 [00:53<00:00, 10.61it/s]\n[2 / 50]   Val: Loss = 0.11094, Accuracy = 96.42%: 100%|██████████| 13/13 [00:03<00:00,  3.42it/s]\n[3 / 50] Train: Loss = 0.07394, Accuracy = 97.63%: 100%|██████████| 572/572 [00:54<00:00, 10.45it/s]\n[3 / 50]   Val: Loss = 0.09548, Accuracy = 96.89%: 100%|██████████| 13/13 [00:03<00:00,  3.38it/s]\n[4 / 50] Train: Loss = 0.05881, Accuracy = 98.09%: 100%|██████████| 572/572 [00:54<00:00, 10.51it/s]\n[4 / 50]   Val: Loss = 0.08816, Accuracy = 97.14%: 100%|██████████| 13/13 [00:03<00:00,  3.32it/s]\n[5 / 50] Train: Loss = 0.04751, Accuracy = 98.43%: 100%|██████████| 572/572 [00:54<00:00, 10.44it/s]\n[5 / 50]   Val: Loss = 0.08930, Accuracy = 97.18%: 100%|██████████| 13/13 [00:03<00:00,  3.26it/s]\n[6 / 50] Train: Loss = 0.03723, Accuracy = 98.77%: 100%|██████████| 572/572 [00:54<00:00, 10.48it/s]\n[6 / 50]   Val: Loss = 0.09390, Accuracy = 97.11%: 100%|██████████| 13/13 [00:03<00:00,  3.47it/s]\n[7 / 50] Train: Loss = 0.02801, Accuracy = 99.08%: 100%|██████████| 572/572 [00:54<00:00, 10.54it/s]\n[7 / 50]   Val: Loss = 0.09825, Accuracy = 97.18%: 100%|██████████| 13/13 [00:03<00:00,  3.42it/s]\n[8 / 50] Train: Loss = 0.02009, Accuracy = 99.34%: 100%|██████████| 572/572 [00:54<00:00, 10.48it/s]\n[8 / 50]   Val: Loss = 0.10279, Accuracy = 97.16%: 100%|██████████| 13/13 [00:03<00:00,  3.37it/s]\n[9 / 50] Train: Loss = 0.01308, Accuracy = 99.59%: 100%|██████████| 572/572 [00:54<00:00, 10.52it/s]\n[9 / 50]   Val: Loss = 0.11389, Accuracy = 97.11%: 100%|██████████| 13/13 [00:03<00:00,  3.31it/s]\n[10 / 50] Train: Loss = 0.00924, Accuracy = 99.71%: 100%|██████████| 572/572 [00:54<00:00, 10.53it/s]\n[10 / 50]   Val: Loss = 0.12337, Accuracy = 97.14%: 100%|██████████| 13/13 [00:04<00:00,  3.16it/s]\n[11 / 50] Train: Loss = 0.00739, Accuracy = 99.78%: 100%|██████████| 572/572 [00:54<00:00, 10.54it/s]\n[11 / 50]   Val: Loss = 0.13221, Accuracy = 97.03%: 100%|██████████| 13/13 [00:03<00:00,  3.27it/s]\n[12 / 50] Train: Loss = 0.00666, Accuracy = 99.79%: 100%|██████████| 572/572 [00:54<00:00, 10.56it/s]\n[12 / 50]   Val: Loss = 0.13550, Accuracy = 97.07%: 100%|██████████| 13/13 [00:03<00:00,  3.33it/s]\n[13 / 50] Train: Loss = 0.00475, Accuracy = 99.86%: 100%|██████████| 572/572 [00:54<00:00, 10.45it/s]\n[13 / 50]   Val: Loss = 0.14589, Accuracy = 97.13%: 100%|██████████| 13/13 [00:03<00:00,  3.27it/s]\n[14 / 50] Train: Loss = 0.00603, Accuracy = 99.80%: 100%|██████████| 572/572 [00:54<00:00, 10.49it/s]\n[14 / 50]   Val: Loss = 0.14698, Accuracy = 97.14%: 100%|██████████| 13/13 [00:04<00:00,  3.24it/s]\n[15 / 50] Train: Loss = 0.00373, Accuracy = 99.89%: 100%|██████████| 572/572 [00:54<00:00, 10.47it/s]\n[15 / 50]   Val: Loss = 0.14902, Accuracy = 97.08%: 100%|██████████| 13/13 [00:03<00:00,  3.58it/s]\n[16 / 50] Train: Loss = 0.00400, Accuracy = 99.88%: 100%|██████████| 572/572 [00:54<00:00, 10.52it/s]\n[16 / 50]   Val: Loss = 0.15428, Accuracy = 97.17%: 100%|██████████| 13/13 [00:03<00:00,  3.40it/s]\n[17 / 50] Train: Loss = 0.00249, Accuracy = 99.92%: 100%|██████████| 572/572 [00:54<00:00, 10.40it/s]\n[17 / 50]   Val: Loss = 0.16830, Accuracy = 97.10%: 100%|██████████| 13/13 [00:03<00:00,  3.59it/s]\n[18 / 50] Train: Loss = 0.00457, Accuracy = 99.85%: 100%|██████████| 572/572 [00:54<00:00, 10.47it/s]\n[18 / 50]   Val: Loss = 0.16560, Accuracy = 97.13%: 100%|██████████| 13/13 [00:03<00:00,  3.29it/s]\n[19 / 50] Train: Loss = 0.00320, Accuracy = 99.90%: 100%|██████████| 572/572 [00:54<00:00, 10.44it/s]\n[19 / 50]   Val: Loss = 0.16789, Accuracy = 97.13%: 100%|██████████| 13/13 [00:04<00:00,  3.23it/s]\n[20 / 50] Train: Loss = 0.00200, Accuracy = 99.94%: 100%|██████████| 572/572 [00:54<00:00, 10.55it/s]\n[20 / 50]   Val: Loss = 0.17101, Accuracy = 97.16%: 100%|██████████| 13/13 [00:04<00:00,  3.14it/s]\n[21 / 50] Train: Loss = 0.00247, Accuracy = 99.92%: 100%|██████████| 572/572 [00:54<00:00, 10.44it/s]\n[21 / 50]   Val: Loss = 0.17821, Accuracy = 97.08%: 100%|██████████| 13/13 [00:04<00:00,  3.15it/s]\n[22 / 50] Train: Loss = 0.00470, Accuracy = 99.84%: 100%|██████████| 572/572 [00:54<00:00, 10.45it/s]\n[22 / 50]   Val: Loss = 0.18392, Accuracy = 97.10%: 100%|██████████| 13/13 [00:03<00:00,  3.36it/s]\n[23 / 50] Train: Loss = 0.00303, Accuracy = 99.90%: 100%|██████████| 572/572 [00:54<00:00, 10.44it/s]\n[23 / 50]   Val: Loss = 0.17422, Accuracy = 97.21%: 100%|██████████| 13/13 [00:04<00:00,  3.21it/s]\n[24 / 50] Train: Loss = 0.00188, Accuracy = 99.95%: 100%|██████████| 572/572 [00:54<00:00, 10.49it/s]\n[24 / 50]   Val: Loss = 0.18269, Accuracy = 97.26%: 100%|██████████| 13/13 [00:04<00:00,  3.22it/s]\n[25 / 50] Train: Loss = 0.00121, Accuracy = 99.97%: 100%|██████████| 572/572 [00:55<00:00, 10.29it/s]\n[25 / 50]   Val: Loss = 0.19531, Accuracy = 97.16%: 100%|██████████| 13/13 [00:03<00:00,  3.52it/s]\n[26 / 50] Train: Loss = 0.00358, Accuracy = 99.88%: 100%|██████████| 572/572 [00:55<00:00, 10.35it/s]\n[26 / 50]   Val: Loss = 0.18933, Accuracy = 97.06%: 100%|██████████| 13/13 [00:03<00:00,  3.44it/s]\n[27 / 50] Train: Loss = 0.00327, Accuracy = 99.89%: 100%|██████████| 572/572 [00:55<00:00, 10.35it/s]\n[27 / 50]   Val: Loss = 0.18540, Accuracy = 97.17%: 100%|██████████| 13/13 [00:04<00:00,  3.12it/s]\n[28 / 50] Train: Loss = 0.00182, Accuracy = 99.94%: 100%|██████████| 572/572 [00:55<00:00, 10.37it/s]\n[28 / 50]   Val: Loss = 0.18712, Accuracy = 97.28%: 100%|██████████| 13/13 [00:03<00:00,  3.36it/s]\n[29 / 50] Train: Loss = 0.00111, Accuracy = 99.97%: 100%|██████████| 572/572 [00:55<00:00, 10.34it/s]\n[29 / 50]   Val: Loss = 0.19173, Accuracy = 97.23%: 100%|██████████| 13/13 [00:03<00:00,  3.44it/s]\n[30 / 50] Train: Loss = 0.00243, Accuracy = 99.92%: 100%|██████████| 572/572 [00:54<00:00, 10.45it/s]\n[30 / 50]   Val: Loss = 0.18520, Accuracy = 97.13%: 100%|██████████| 13/13 [00:03<00:00,  3.30it/s]\n[31 / 50] Train: Loss = 0.00256, Accuracy = 99.92%: 100%|██████████| 572/572 [00:55<00:00, 10.35it/s]\n[31 / 50]   Val: Loss = 0.20051, Accuracy = 97.14%: 100%|██████████| 13/13 [00:03<00:00,  3.45it/s]\n[32 / 50] Train: Loss = 0.00164, Accuracy = 99.95%: 100%|██████████| 572/572 [00:55<00:00, 10.33it/s]\n[32 / 50]   Val: Loss = 0.20378, Accuracy = 97.13%: 100%|██████████| 13/13 [00:03<00:00,  3.36it/s]\n[33 / 50] Train: Loss = 0.00190, Accuracy = 99.94%: 100%|██████████| 572/572 [00:55<00:00, 10.33it/s]\n[33 / 50]   Val: Loss = 0.19982, Accuracy = 97.15%: 100%|██████████| 13/13 [00:03<00:00,  3.28it/s]\n[34 / 50] Train: Loss = 0.00258, Accuracy = 99.91%: 100%|██████████| 572/572 [00:55<00:00, 10.30it/s]\n[34 / 50]   Val: Loss = 0.19802, Accuracy = 97.22%: 100%|██████████| 13/13 [00:04<00:00,  3.23it/s]\n[35 / 50] Train: Loss = 0.00321, Accuracy = 99.90%: 100%|██████████| 572/572 [00:55<00:00, 10.38it/s]\n[35 / 50]   Val: Loss = 0.19526, Accuracy = 97.22%: 100%|██████████| 13/13 [00:03<00:00,  3.41it/s]\n[36 / 50] Train: Loss = 0.00110, Accuracy = 99.97%: 100%|██████████| 572/572 [00:54<00:00, 10.41it/s]\n[36 / 50]   Val: Loss = 0.19949, Accuracy = 97.33%: 100%|██████████| 13/13 [00:04<00:00,  3.23it/s]\n[37 / 50] Train: Loss = 0.00040, Accuracy = 99.99%: 100%|██████████| 572/572 [00:55<00:00, 10.32it/s]\n[37 / 50]   Val: Loss = 0.20183, Accuracy = 97.35%: 100%|██████████| 13/13 [00:03<00:00,  3.37it/s]\n[38 / 50] Train: Loss = 0.00026, Accuracy = 99.99%: 100%|██████████| 572/572 [00:55<00:00, 10.34it/s]\n[38 / 50]   Val: Loss = 0.20464, Accuracy = 97.37%: 100%|██████████| 13/13 [00:03<00:00,  3.27it/s]\n[39 / 50] Train: Loss = 0.00049, Accuracy = 99.99%: 100%|██████████| 572/572 [00:55<00:00, 10.33it/s]\n[39 / 50]   Val: Loss = 0.22087, Accuracy = 97.12%: 100%|██████████| 13/13 [00:04<00:00,  3.15it/s]\n[40 / 50] Train: Loss = 0.00762, Accuracy = 99.74%: 100%|██████████| 572/572 [00:55<00:00, 10.36it/s]\n[40 / 50]   Val: Loss = 0.19102, Accuracy = 97.18%: 100%|██████████| 13/13 [00:04<00:00,  3.21it/s]\n[41 / 50] Train: Loss = 0.00189, Accuracy = 99.94%: 100%|██████████| 572/572 [00:55<00:00, 10.27it/s]\n[41 / 50]   Val: Loss = 0.19988, Accuracy = 97.23%: 100%|██████████| 13/13 [00:04<00:00,  3.16it/s]\n[42 / 50] Train: Loss = 0.00068, Accuracy = 99.99%: 100%|██████████| 572/572 [00:54<00:00, 10.47it/s]\n[42 / 50]   Val: Loss = 0.19551, Accuracy = 97.29%: 100%|██████████| 13/13 [00:03<00:00,  3.32it/s]\n[43 / 50] Train: Loss = 0.00026, Accuracy = 100.00%: 100%|██████████| 572/572 [00:55<00:00, 10.27it/s]\n[43 / 50]   Val: Loss = 0.19784, Accuracy = 97.36%: 100%|██████████| 13/13 [00:03<00:00,  3.31it/s]\n[44 / 50] Train: Loss = 0.00014, Accuracy = 100.00%: 100%|██████████| 572/572 [00:54<00:00, 10.40it/s]\n[44 / 50]   Val: Loss = 0.20068, Accuracy = 97.36%: 100%|██████████| 13/13 [00:04<00:00,  3.23it/s]\n[45 / 50] Train: Loss = 0.00012, Accuracy = 100.00%: 100%|██████████| 572/572 [00:55<00:00, 10.34it/s]\n[45 / 50]   Val: Loss = 0.20351, Accuracy = 97.37%: 100%|██████████| 13/13 [00:03<00:00,  3.29it/s]\n[46 / 50] Train: Loss = 0.00013, Accuracy = 100.00%: 100%|██████████| 572/572 [00:55<00:00, 10.39it/s]\n[46 / 50]   Val: Loss = 0.20746, Accuracy = 97.36%: 100%|██████████| 13/13 [00:03<00:00,  3.31it/s]\n[47 / 50] Train: Loss = 0.00866, Accuracy = 99.72%: 100%|██████████| 572/572 [00:55<00:00, 10.27it/s]\n[47 / 50]   Val: Loss = 0.18552, Accuracy = 97.13%: 100%|██████████| 13/13 [00:03<00:00,  3.29it/s]\n[48 / 50] Train: Loss = 0.00316, Accuracy = 99.90%: 100%|██████████| 572/572 [00:54<00:00, 10.42it/s]\n[48 / 50]   Val: Loss = 0.18820, Accuracy = 97.28%: 100%|██████████| 13/13 [00:03<00:00,  3.27it/s]\n[49 / 50] Train: Loss = 0.00054, Accuracy = 99.99%: 100%|██████████| 572/572 [00:55<00:00, 10.31it/s]\n[49 / 50]   Val: Loss = 0.19067, Accuracy = 97.33%: 100%|██████████| 13/13 [00:04<00:00,  3.22it/s]\n[50 / 50] Train: Loss = 0.00022, Accuracy = 99.99%: 100%|██████████| 572/572 [00:55<00:00, 10.40it/s]\n[50 / 50]   Val: Loss = 0.19891, Accuracy = 97.32%: 100%|██████████| 13/13 [00:04<00:00,  3.15it/s]\n"
    }
   ],
   "source": [
    "PretrainedModel = LSTMTaggerWithPretrainedEmbs(\n",
    "    embeddings=embeddings,\n",
    "    tagset_size=len(tag2ind),\n",
    ").cuda()\n",
    "\n",
    "criterion = nn.CrossEntropyLoss(ignore_index=0)\n",
    "optimizer = optim.Adam(PretrainedModel.parameters())\n",
    "\n",
    "fit(PretrainedModel, criterion, optimizer, train_data=(X_train, y_train), epochs_count=50,\n",
    "    batch_size=64, val_data=(X_val, y_val), val_batch_size=512)"
   ]
  },
  {
   "cell_type": "markdown",
   "metadata": {
    "colab_type": "text",
    "id": "2Ne_8f24h8kg"
   },
   "source": [
    "**Задание** Оцените качество модели на тестовой выборке. Обратите внимание, вовсе не обязательно ограничиваться векторами из урезанной матрицы - вполне могут найтись слова в тесте, которых не было в трейне и для которых есть эмбеддинги.\n",
    "\n",
    "Добейтесь качества лучше прошлых моделей."
   ]
  },
  {
   "cell_type": "code",
   "execution_count": 26,
   "metadata": {
    "colab": {},
    "colab_type": "code",
    "id": "HPUuAPGhEGVR"
   },
   "outputs": [
    {
     "output_type": "stream",
     "name": "stdout",
     "text": "Accuracy on a training set =0.9734945897841077\n"
    }
   ],
   "source": [
    "count, total_count = 0, 0\n",
    "\n",
    "for (X_batch, y_batch) in iterate_batches((X_test, y_test), 64):\n",
    "                X_batch, y_batch = LongTensor(X_batch), LongTensor(y_batch)\n",
    "                logits = PretrainedModel(X_batch)\n",
    "                cur_correct_count, cur_sum_count = calc_accuracy(logits, y_batch)\n",
    "\n",
    "                count += cur_correct_count\n",
    "                total_count += cur_sum_count\n",
    "print(\"Accuracy on a training set = \", count/total_count)"
   ]
  },
  {
   "cell_type": "code",
   "execution_count": null,
   "metadata": {},
   "outputs": [],
   "source": []
  },
  {
   "cell_type": "code",
   "execution_count": null,
   "metadata": {},
   "outputs": [],
   "source": []
  }
 ],
 "metadata": {
  "accelerator": "GPU",
  "colab": {
   "collapsed_sections": [],
   "name": "Week 06 - RNNs, part 2.ipynb",
   "provenance": [],
   "version": "0.3.2"
  },
  "kernelspec": {
   "display_name": "Python 3",
   "language": "python",
   "name": "python3"
  },
  "language_info": {
   "codemirror_mode": {
    "name": "ipython",
    "version": 3
   },
   "file_extension": ".py",
   "mimetype": "text/x-python",
   "name": "python",
   "nbconvert_exporter": "python",
   "pygments_lexer": "ipython3",
   "version": "3.7.4-final"
  }
 },
 "nbformat": 4,
 "nbformat_minor": 1
}