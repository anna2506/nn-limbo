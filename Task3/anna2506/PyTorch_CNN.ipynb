{
 "cells": [
  {
   "cell_type": "markdown",
   "metadata": {},
   "source": [
    "# Задание 3.2 - сверточные нейронные сети (CNNs) в PyTorch\n",
    "\n",
    "Это упражнение мы буде выполнять в Google Colab - https://colab.research.google.com/  \n",
    "Google Colab позволяет запускать код в notebook в облаке Google, где можно воспользоваться бесплатным GPU!  \n",
    "\n",
    "Авторы курса благодарят компанию Google и надеятся, что праздник не закончится.\n",
    "\n",
    "Туториал по настройке Google Colab:  \n",
    "https://medium.com/deep-learning-turkey/google-colab-free-gpu-tutorial-e113627b9f5d  \n",
    "(Keras инсталлировать не нужно, наш notebook сам установит PyTorch)\n"
   ]
  },
  {
   "cell_type": "code",
   "execution_count": 1,
   "metadata": {
    "colab": {},
    "colab_type": "code",
    "id": "FcXBeP1O7cnY"
   },
   "outputs": [
    {
     "output_type": "stream",
     "name": "stderr",
     "text": "\"pip3\" �� ���� ����७��� ��� ���譥�\n��������, �ᯮ��塞�� �ணࠬ��� ��� ������ 䠩���.\n\"wget\" �� ���� ����७��� ��� ���譥�\n��������, �ᯮ��塞�� �ணࠬ��� ��� ������ 䠩���.\n"
    }
   ],
   "source": [
    "# Intstall PyTorch and download data\n",
    "!pip3 install torch torchvision\n",
    "\n",
    "!wget -c http://ufldl.stanford.edu/housenumbers/train_32x32.mat http://ufldl.stanford.edu/housenumbers/test_32x32.mat"
   ]
  },
  {
   "cell_type": "code",
   "execution_count": 1,
   "metadata": {
    "colab": {},
    "colab_type": "code",
    "id": "-afwWw-Q85vD"
   },
   "outputs": [],
   "source": [
    "from collections import namedtuple\n",
    "\n",
    "import matplotlib.pyplot as plt\n",
    "import numpy as np\n",
    "import PIL\n",
    "import torch\n",
    "import torch.nn as nn\n",
    "import torch.optim as optim\n",
    "import torchvision.datasets as dset\n",
    "from torch.utils.data.sampler import SubsetRandomSampler\n",
    "\n",
    "from torchvision import transforms"
   ]
  },
  {
   "cell_type": "code",
   "execution_count": 2,
   "metadata": {
    "colab": {},
    "colab_type": "code",
    "id": "NNU-OD9O9ltP"
   },
   "outputs": [],
   "source": [
    "device = torch.device(\"cuda:0\") # Let's make sure GPU is available!"
   ]
  },
  {
   "cell_type": "markdown",
   "metadata": {},
   "source": [
    "# Загружаем данные"
   ]
  },
  {
   "cell_type": "code",
   "execution_count": 3,
   "metadata": {
    "colab": {},
    "colab_type": "code",
    "id": "YAvkoRx-9FsP"
   },
   "outputs": [],
   "source": [
    "# First, lets load the dataset\n",
    "data_train = dset.SVHN('./', \n",
    "                       transform=transforms.Compose([\n",
    "                           transforms.ToTensor(),\n",
    "                           transforms.Normalize(mean=[0.43,0.44,0.47],\n",
    "                                               std=[0.20,0.20,0.20])                           \n",
    "                       ])\n",
    "                      )\n",
    "data_test = dset.SVHN('./', split='test', transform=transforms.Compose([\n",
    "                           transforms.ToTensor(),\n",
    "                           transforms.Normalize(mean=[0.43,0.44,0.47],\n",
    "                                               std=[0.20,0.20,0.20])                           \n",
    "                       ]))"
   ]
  },
  {
   "cell_type": "markdown",
   "metadata": {},
   "source": [
    "Разделяем данные на training и validation.\n",
    "\n",
    "На всякий случай для подробностей - https://pytorch.org/tutorials/beginner/data_loading_tutorial.html"
   ]
  },
  {
   "cell_type": "code",
   "execution_count": 4,
   "metadata": {
    "colab": {},
    "colab_type": "code",
    "id": "YRnr8CPg7Hli"
   },
   "outputs": [],
   "source": [
    "batch_size = 64\n",
    "\n",
    "data_size = data_train.data.shape[0]\n",
    "validation_split = .2\n",
    "split = int(np.floor(validation_split * data_size))\n",
    "indices = list(range(data_size))\n",
    "np.random.shuffle(indices)\n",
    "\n",
    "train_indices, val_indices = indices[split:], indices[:split]\n",
    "\n",
    "train_sampler = SubsetRandomSampler(train_indices)\n",
    "val_sampler = SubsetRandomSampler(val_indices)\n",
    "\n",
    "train_loader = torch.utils.data.DataLoader(data_train, batch_size=batch_size, \n",
    "                                           sampler=train_sampler)\n",
    "val_loader = torch.utils.data.DataLoader(data_train, batch_size=batch_size,\n",
    "                                         sampler=val_sampler)"
   ]
  },
  {
   "cell_type": "code",
   "execution_count": 5,
   "metadata": {
    "colab": {},
    "colab_type": "code",
    "id": "LyYvt-T67PBG"
   },
   "outputs": [],
   "source": [
    "# We'll use a special helper module to shape it into a flat tensor\n",
    "class Flattener(nn.Module):\n",
    "    def forward(self, x):\n",
    "        batch_size, *_ = x.shape\n",
    "        return x.view(batch_size, -1)"
   ]
  },
  {
   "cell_type": "markdown",
   "metadata": {},
   "source": [
    "Создадим простейшую сеть с новыми слоями:  \n",
    "Convolutional - `nn.Conv2d`  \n",
    "MaxPool - `nn.MaxPool2d`"
   ]
  },
  {
   "cell_type": "code",
   "execution_count": 6,
   "metadata": {
    "colab": {},
    "colab_type": "code",
    "id": "w9SFVGZP7SQd"
   },
   "outputs": [],
   "source": [
    "nn_model = nn.Sequential(\n",
    "            nn.Conv2d(3, 64, 3, padding=1),\n",
    "            nn.ReLU(inplace=True),\n",
    "            nn.MaxPool2d(4),\n",
    "            nn.Conv2d(64, 64, 3, padding=1),\n",
    "            nn.ReLU(inplace=True),\n",
    "            nn.MaxPool2d(4),    \n",
    "            Flattener(),\n",
    "            nn.Linear(64*2*2, 10),\n",
    "          )\n",
    "\n",
    "nn_model.type(torch.cuda.FloatTensor)\n",
    "nn_model.to(device)\n",
    "\n",
    "loss = nn.CrossEntropyLoss().type(torch.cuda.FloatTensor)\n",
    "optimizer = optim.SGD(nn_model.parameters(), lr=1e-1, weight_decay=1e-4)\n",
    ""
   ]
  },
  {
   "cell_type": "markdown",
   "metadata": {},
   "source": [
    "Восстановите функцию `compute_accuracy` из прошлого задания.  \n",
    "Единственное отличие в новом - она должна передать данные на GPU прежде чем прогонять через модель. Сделайте это так же, как это делает функция `train_model`"
   ]
  },
  {
   "cell_type": "code",
   "execution_count": 7,
   "metadata": {
    "colab": {},
    "colab_type": "code",
    "id": "2ek3KVQK7hJ6"
   },
   "outputs": [
    {
     "output_type": "stream",
     "name": "stdout",
     "text": "Average loss: 1.387780, Train accuracy: 0.535594, Val accuracy: 0.761313\nAverage loss: 0.691490, Train accuracy: 0.788196, Val accuracy: 0.812231\nAverage loss: 0.586364, Train accuracy: 0.823994, Val accuracy: 0.815166\nAverage loss: 0.535976, Train accuracy: 0.840016, Val accuracy: 0.849567\nAverage loss: 0.505162, Train accuracy: 0.851176, Val accuracy: 0.809433\n"
    }
   ],
   "source": [
    "def train_model(model, train_loader, val_loader, loss, optimizer, num_epochs, scheduler = None):    \n",
    "    loss_history = []\n",
    "    train_history = []\n",
    "    val_history = []\n",
    "    for epoch in range(num_epochs):\n",
    "        model.train() # Enter train mode\n",
    "        \n",
    "        loss_accum = 0\n",
    "        correct_samples = 0\n",
    "        total_samples = 0\n",
    "        for i_step, (x, y) in enumerate(train_loader):\n",
    "          \n",
    "            x_gpu = x.to(device)\n",
    "            y_gpu = y.to(device)\n",
    "            prediction = model(x_gpu)    \n",
    "            loss_value = loss(prediction, y_gpu)\n",
    "            optimizer.zero_grad()\n",
    "            loss_value.backward()\n",
    "            optimizer.step()\n",
    "            \n",
    "            _, indices = torch.max(prediction, 1)\n",
    "            correct_samples += torch.sum(indices == y_gpu)\n",
    "            total_samples += y.shape[0]\n",
    "            \n",
    "            loss_accum += loss_value\n",
    "\n",
    "        ave_loss = loss_accum / i_step\n",
    "        train_accuracy = float(correct_samples) / total_samples\n",
    "        val_accuracy = compute_accuracy(model, val_loader)\n",
    "        if scheduler != None:\n",
    "            scheduler.step(val_accuracy)\n",
    "        \n",
    "        loss_history.append(float(ave_loss))\n",
    "        train_history.append(train_accuracy)\n",
    "        val_history.append(val_accuracy)\n",
    "        \n",
    "        print(\"Average loss: %f, Train accuracy: %f, Val accuracy: %f\" % (ave_loss, train_accuracy, val_accuracy))\n",
    "        \n",
    "    return loss_history, train_history, val_history\n",
    "        \n",
    "def compute_accuracy(model, loader):\n",
    "    \"\"\"\n",
    "    Computes accuracy on the dataset wrapped in a loader\n",
    "    \n",
    "    Returns: accuracy as a float value between 0 and 1\n",
    "    \"\"\"\n",
    "    model.eval() # Evaluation mode\n",
    "    # TODO: Copy implementation from previous assignment\n",
    "    # Don't forget to move the data to device before running it through the model!\n",
    "    count, num_samples = 0, 0\n",
    "    for i_step, (x, y) in enumerate(loader):\n",
    "        x_gpu = x.to(device)\n",
    "        y_gpu = y.to(device)\n",
    "        prediction = model(x_gpu)\n",
    "        _, ind = torch.max(prediction, 1)\n",
    "        num_samples += y_gpu.shape[0]\n",
    "        count += (y_gpu == ind).sum()\n",
    "    accuracy = float(count)/num_samples\n",
    "    return accuracy\n",
    "\n",
    "loss_history, train_history, val_history = train_model(nn_model, train_loader, val_loader, loss, optimizer, 5)"
   ]
  },
  {
   "cell_type": "markdown",
   "metadata": {
    "colab_type": "text",
    "id": "6a-3a1ZFGEw_"
   },
   "source": [
    "# Аугментация данных (Data augmentation)\n",
    "\n",
    "В работе с изображениями одним из особенно важных методов является аугментация данных - то есть, генерация дополнительных данных для тренировки на основе изначальных.   \n",
    "Таким образом, мы получаем возможность \"увеличить\" набор данных для тренировки, что ведет к лучшей работе сети.\n",
    "Важно, чтобы аугментированные данные были похожи на те, которые могут встретиться в реальной жизни, иначе польза от аугментаций уменьшается и может ухудшить работу сети.\n",
    "\n",
    "С PyTorch идут несколько таких алгоритмов, называемых `transforms`. Более подробно про них можно прочитать тут -\n",
    "https://pytorch.org/tutorials/beginner/data_loading_tutorial.html#transforms\n",
    "\n",
    "Ниже мы используем следующие алгоритмы генерации:\n",
    "- ColorJitter - случайное изменение цвета\n",
    "- RandomHorizontalFlip - горизонтальное отражение с вероятностью 50%\n",
    "- RandomVerticalFlip - вертикальное отражение с вероятностью 50%\n",
    "- RandomRotation - случайный поворот"
   ]
  },
  {
   "cell_type": "code",
   "execution_count": 8,
   "metadata": {
    "colab": {},
    "colab_type": "code",
    "id": "jCWMUWmr7t5g"
   },
   "outputs": [],
   "source": [
    "tfs = transforms.Compose([\n",
    "    transforms.ColorJitter(hue=.50, saturation=.50),\n",
    "    transforms.RandomHorizontalFlip(),\n",
    "    transforms.RandomVerticalFlip(),\n",
    "    transforms.RandomRotation(50, resample=PIL.Image.BILINEAR),\n",
    "    transforms.ToTensor(),\n",
    "    transforms.Normalize(mean=[0.43,0.44,0.47],\n",
    "                       std=[0.20,0.20,0.20])                           \n",
    "])\n",
    "\n",
    "# Create augmented train dataset\n",
    "data_aug_train = dset.SVHN('./', \n",
    "                       transform=tfs\n",
    "                      )\n",
    "\n",
    "train_aug_loader = torch.utils.data.DataLoader(data_aug_train, batch_size=batch_size, \n",
    "                                           sampler=train_sampler)"
   ]
  },
  {
   "cell_type": "markdown",
   "metadata": {},
   "source": [
    "Визуализируем результаты агментации (вообще, смотреть на сгенерированные данные всегда очень полезно)."
   ]
  },
  {
   "cell_type": "code",
   "execution_count": 9,
   "metadata": {
    "colab": {},
    "colab_type": "code",
    "id": "YlJJEro1KZ45"
   },
   "outputs": [
    {
     "output_type": "display_data",
     "data": {
      "text/plain": "<Figure size 2160x216 with 10 Axes>",
      "image/svg+xml": "<?xml version=\"1.0\" encoding=\"utf-8\" standalone=\"no\"?>\r\n<!DOCTYPE svg PUBLIC \"-//W3C//DTD SVG 1.1//EN\"\r\n  \"http://www.w3.org/Graphics/SVG/1.1/DTD/svg11.dtd\">\r\n<!-- Created with matplotlib (https://matplotlib.org/) -->\r\n<svg height=\"156.264407pt\" version=\"1.1\" viewBox=\"0 0 1688.4 156.264407\" width=\"1688.4pt\" xmlns=\"http://www.w3.org/2000/svg\" xmlns:xlink=\"http://www.w3.org/1999/xlink\">\r\n <defs>\r\n  <style type=\"text/css\">\r\n*{stroke-linecap:butt;stroke-linejoin:round;}\r\n  </style>\r\n </defs>\r\n <g id=\"figure_1\">\r\n  <g id=\"patch_1\">\r\n   <path d=\"M 0 156.264407 \r\nL 1688.4 156.264407 \r\nL 1688.4 0 \r\nL 0 0 \r\nz\r\n\" style=\"fill:none;\"/>\r\n  </g>\r\n  <g id=\"axes_1\">\r\n   <g clip-path=\"url(#pb6d11f7c47)\">\r\n    <image height=\"142\" id=\"image7f27c09752\" transform=\"scale(1 -1)translate(0 -142)\" width=\"142\" x=\"7.2\" xlink:href=\"data:image/png;base64,\r\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\" y=\"-7.064407\"/>\r\n   </g>\r\n  </g>\r\n  <g id=\"axes_2\">\r\n   <g clip-path=\"url(#p11f9e6dfaf)\">\r\n    <image height=\"142\" id=\"imagebdc07d177e\" transform=\"scale(1 -1)translate(0 -142)\" width=\"142\" x=\"177.437288\" xlink:href=\"data:image/png;base64,\r\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\" y=\"-7.064407\"/>\r\n   </g>\r\n  </g>\r\n  <g id=\"axes_3\">\r\n   <g clip-path=\"url(#p9fed2897f2)\">\r\n    <image height=\"142\" id=\"image6b472de8fc\" transform=\"scale(1 -1)translate(0 -142)\" width=\"142\" x=\"347.674576\" xlink:href=\"data:image/png;base64,\r\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\" y=\"-7.064407\"/>\r\n   </g>\r\n  </g>\r\n  <g id=\"axes_4\">\r\n   <g clip-path=\"url(#p0b1608133e)\">\r\n    <image height=\"142\" id=\"image6f89a49446\" transform=\"scale(1 -1)translate(0 -142)\" width=\"142\" x=\"517.911864\" xlink:href=\"data:image/png;base64,\r\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\" y=\"-7.064407\"/>\r\n   </g>\r\n  </g>\r\n  <g id=\"axes_5\">\r\n   <g clip-path=\"url(#pf92d16d231)\">\r\n    <image height=\"142\" id=\"image5e41a69cd6\" transform=\"scale(1 -1)translate(0 -142)\" width=\"142\" x=\"688.149153\" xlink:href=\"data:image/png;base64,\r\niVBORw0KGgoAAAANSUhEUgAAAI4AAACOCAYAAADn/TAIAAAABHNCSVQICAgIfAhkiAAAC49JREFUeJztnU2P9cQRhcvu9lz4l4mQQALxIVZZhCAIsINIkbKLYJFlfh/z3rnXdmdxs+lzTqY7pWGBdJ6d/bbbH1OvfW5VV9USES0GfPzDn7rtdV1pzNO2vbodEVHXpZ9nObvt1vrtiIjz7PedhxgD+5aFr69utR9T+PpOOK4t/fWqefFZrKXQmG8++IL2/d7hJ2HMBDYck8KGY1LU8ZCIwG+7+Nbj9x/kgYTUSmO5RRrnFGMCT8Ynbwcc13YeQ/eA+oXnXUAinitf39c//x3mHT8ckIPijnifEqtf/eHT4bky+I1jUthwTAobjklhwzEppsTxsvZOrbVMOMKEgG5LL99I3AlxjPuakIkosoV+jthBZLM0Z3EJ910KH1PA4VfEPaBPcBEO1BUEMzofUSz/r33I1//8W7e97/yjAMW6ct6uaAPjUxvD2HBMChuOSTGlcVi/8Md1XTEgOOEsQ/2iHIC4LfRBNNAHQuQc59FvSz2F08IOMW+FfeXk+y7wlFEvREQUcC6SdhJ6poLew+f72ImexLEwamKe4+y1kd84JoUNx6Sw4ZgUNhyTYk4cgzOvKHGHDiIpjnFfP++58LwostUqvGgQ1RYrCWNBIc5j9obiHVYWNr6nncQxn7rACsVSDhpTa/+n2FCfCqdrwONSb4EGPyYWMU+DFQgv9zuNwVUKfuOYFDYck8KGY1KQxvnix+9oEOqMIpxwBfSJ8tNhWLOANlmbCv6B7hBBzoMcYSqA2Y85g3VGNFxteL76749d/bzHwUHEde3PVUR08jj6Ma1tsM36D/98TczLUlPotL0/9+12E2N63eM3jklhwzEpbDgmhQ3HpJhLjwFUCvAyFR1HwMslnFMYoGYnorg+oSMXSI9ZDhbHDURiwGq5Q6QfU0RdRN0POPcpnk2DdB0colck4LnGz2bf+R6ery/99rtfxXGOjps3wIZjUthwTArSOOobzZpGfEtV8BHnoUzd/99ulcbBIKzKhFgr3Jf41rcFnHfokFRpw6B7VHyVn6lYfQh6BedRqxoxrVmt3MNzqSyH6/XabT8/v6Mx1jjmTbDhmBQ2HJPChmNSTIlj3KfSMNRxI9BpqMRymRC+5PFTzkcQl4eIoBdczQfToiMvgh2UuGowgoXtggdFcB4QCl/lfISouxLHuOdQPwpoZaNYJTgcYcwENhyTwoZjUqSCnFJn0Jhxii3qDly1H8GuRlUihCOCIgsDrqeIWn0VjtuXXkOo0i3Lgp46vrzAlYRKg6GOxIelHIBYH1GcmrSn0KIYkMaMi8egftNvHJPChmNS2HBMCvbjCB8D+R3wuy6ZqDNG33WVgYm1h8UiKNonhMbUgrDRNYtznxP+FhhzimfcIKDKUkSdu9/GsjGPeTADk+fZKpduQ/bDQU7zBthwTAobjklhwzEpSBzLEnEk5sYBTXJghRCkFORUKwvHDT5wn1yFh8eJkiXkZJsIYKIgpbThYEed+t96YiYEiGyVYYGoJ8PXzH+XDR2mm1hBCYUM/cYxKWw4JoUNx6Son//0bbdDyQwsa4I1jR/HYe8BFRB8/RitcfpNuZKf6iXzENIiasEV7QDtJE89zjRA3aPk1QqZpZhouu4q+xOzMFQWaT/ReXIGKz4LVS6FekvQCGMmsOGYFDYck8KGY1JUbFqmSpjUWmCbV4hVjGKrsw2Dz+Puwmr1IQpS5Spjcawajrzu2Jy6JzUImyirFYCDNGuVAoyiVjkf7/e+nt+7F07vvUN9P9mIrdoBaN4AG45JYcMxKSpqGlXDmHVQrp4ugivhZP8HbHKqmrmSE06cC7aVEw41FjnCxH1TEzhVji6waZnIWCUn63jlI6J00P3er9y7vrvSmJdbX8pNaZyluJmreQNsOCaFDceksOGYFBVFmWpQQU3MxBhmossuiVp2YB0QAVblSQ5MPxFXMyWO4b/Rip14N04jqZx3w4Bgrlg/JSI2WGFXSSzztBR1nyhRs9+5BuB+g33q7wvN2fzGMSlsOCaFDcekqPhNls4fbKiaSO+N4GAkfn/voknYfvYBOLXYn5qfiTInHCxlSPdUaMwm6rC0pdc9qIsiuPHapT7RmEuBeTAwKq4Yaw8rJ+Hlcum237u8T2PQe3tMZHP4jWNS2HBMChuOScErsqbKnKheVOPV/lTuA7Z3IWDusEofW0pFcDPXtYh+FKA9pJZD3wkt0mL9slYIRgrxhPNcCj/2p9LrHro8kZ2ww+Iq5R/CYOnTE+ur5+tzt/0im7m6zIl5A2w4JoUNx6Sw4ZgUFUXsTKURuRhtosbeyAEo6/TC9tFYJB5g/1j37jHPxAo2DHI2DACPayyr+GCFnVRWJDjISQ6/Y7zqUsZty1gcb5fe+Xh7eaEx6Jz1G8eksOGYFDYck4I0jso0GK3AjwguNSJW3KPuwdIZymmIzr0ZHcR1j4W+UqVGaMdY3GHGgloIt4FjropMCKw/TP4/oWCWEx2fNCRW2IkLxB7HgQbb2EGJ5VL8xjEpbDgmhQ3HpLDhmBQV3UayBMfMCsCJMsIkhmH7FKmxIs7NE6PoFiNYiItUYirVMn42vIJSlTAZe+pGzlF1V3g5ykFJ7VGK+lWAIpvn+f6jz/oxPIsxY2w4JoUNx6SoKEZOIU4wU1J+ozEmh4V6I+KAzENc8Yf//tjXb++qqelEo9EZzbCCexGdZ1K/UJBzrIMULaDOMQRq1cpCvhY18UQzV9iWwVzAbxyTwoZjUthwTAobjklRsSGZ6mKLe04Ro8aSG9g1NiLiDrktdzjmvvMxWIFDCejA1BchALE2s2oCsmEaLjkElRMOHYvq2cAqS9nIBH5MwH2qxssNfhUoAb3AvHjMf3fC9Y3VvN84JoUNx6Sw4ZgUtUET0UN8TGk1n2yo1YuRG/QHiBAaB/TUTTgNbzdIAVYaB2sCq5X8T73G2TYec26DQKPKnsC0W5XmMFGyjo7C+xT3vZzjlZlUL1k4UHH14YSv0W8ck8OGY1LYcEwKG45JQWV6lQNw37GujajVAmJYieMbieN+3quowXuFWi1YLydC1LW5c32X7d6L4aeLuIcTo/XYQZfrHG/QBE751/CJYk3ACLHKEv4uqxS1OC+zLFB3R3gJUayrFKTRuY2ZwoZjUthwTIq6zNjORHovrhI8dqWVIKgJeurlxrro+do35tonNE5R9ZKxlqBwqGEwku5TrT48QeOongsTDd0KpQCPm9jiikTsuRFB8V+pXw4s7zIhcvzGMSlsOCaFDcekEM1cJ45q/C2t8GE8C/s8DnByYO+pUvjjiguwZAAO+zSoTA3QOIuo5XsbZCzIHFLMRpCZkniQCEaiH2ewHcF9w7BciRrTVLAUNFhbx2FOv3FMChuOSWHDMSlsOCZFxRp2sk8riK46UQoF02cjIhYUzOAAXMQxFRqo7iLAimnLciE/3JhK561QaxidcNoBiLWaVZOwflv9AKGmJCBQVQNdvAcloFWDV56o3/zzB58OD/Ebx6Sw4ZgUNhyTghvWq2akE9mK+C1VZU4KaJoCH//L+R4d837gIjL+ZmOjUdELLc6JtftU7mPBIKIIThbUGTKd8tXzPBiMkdVTxrWbqZSburzE+8NvHJPChmNS2HBMChuOSVEXLOUhIrcLOqPEGCxAVyo3klhBmW0o3VQXC6yFzCOoXp5a3bfDmFNkczSMoKOSlE3g4NkIab7CuZXIpmc60SAFfxTIe8JjVAr1TM4v4DeOSWHDMSlsOCbFEqkv3Ji//vIP2ofNurC/wqp0EQRGlQZD554q04bBUVmHGTJNzwPLoCmFBfvEmLX1WRcqSEx3hcFnIbC41JyASrXwELycv3z4pZoJrseYBDYck8KGY1LYcEwKVqNvxFd//OS3mnrI9//+F+3Denm48jEiYseOw7ByoInVhyiOMV0mgqPP6BB8TD4QsSKsTeVmJhp8vBV+45gUNhyTwoZjUvwHm2FJiENCa6MAAAAASUVORK5CYII=\" y=\"-7.064407\"/>\r\n   </g>\r\n  </g>\r\n  <g id=\"axes_6\">\r\n   <g clip-path=\"url(#pf78e0fac19)\">\r\n    <image height=\"142\" id=\"imaged041f4af70\" transform=\"scale(1 -1)translate(0 -142)\" width=\"142\" x=\"858.386441\" xlink:href=\"data:image/png;base64,\r\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\" y=\"-7.064407\"/>\r\n   </g>\r\n  </g>\r\n  <g id=\"axes_7\">\r\n   <g clip-path=\"url(#p65df57096b)\">\r\n    <image height=\"142\" id=\"image9b51e0a726\" transform=\"scale(1 -1)translate(0 -142)\" width=\"142\" x=\"1028.623729\" xlink:href=\"data:image/png;base64,\r\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\" y=\"-7.064407\"/>\r\n   </g>\r\n  </g>\r\n  <g id=\"axes_8\">\r\n   <g clip-path=\"url(#p93c4604b5d)\">\r\n    <image height=\"142\" id=\"image90db56a361\" transform=\"scale(1 -1)translate(0 -142)\" width=\"142\" x=\"1198.861017\" xlink:href=\"data:image/png;base64,\r\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\" y=\"-7.064407\"/>\r\n   </g>\r\n  </g>\r\n  <g id=\"axes_9\">\r\n   <g clip-path=\"url(#p09c2113599)\">\r\n    <image height=\"142\" id=\"imageea2cedddca\" transform=\"scale(1 -1)translate(0 -142)\" width=\"142\" x=\"1369.098305\" xlink:href=\"data:image/png;base64,\r\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\" y=\"-7.064407\"/>\r\n   </g>\r\n  </g>\r\n  <g id=\"axes_10\">\r\n   <g clip-path=\"url(#pab7a004602)\">\r\n    <image height=\"142\" id=\"imagea767c89b9f\" transform=\"scale(1 -1)translate(0 -142)\" width=\"142\" x=\"1539.335593\" xlink:href=\"data:image/png;base64,\r\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\" y=\"-7.064407\"/>\r\n   </g>\r\n  </g>\r\n </g>\r\n <defs>\r\n  <clipPath id=\"pb6d11f7c47\">\r\n   <rect height=\"141.864407\" width=\"141.864407\" x=\"7.2\" y=\"7.2\"/>\r\n  </clipPath>\r\n  <clipPath id=\"p11f9e6dfaf\">\r\n   <rect height=\"141.864407\" width=\"141.864407\" x=\"177.437288\" y=\"7.2\"/>\r\n  </clipPath>\r\n  <clipPath id=\"p9fed2897f2\">\r\n   <rect height=\"141.864407\" width=\"141.864407\" x=\"347.674576\" y=\"7.2\"/>\r\n  </clipPath>\r\n  <clipPath id=\"p0b1608133e\">\r\n   <rect height=\"141.864407\" width=\"141.864407\" x=\"517.911864\" y=\"7.2\"/>\r\n  </clipPath>\r\n  <clipPath id=\"pf92d16d231\">\r\n   <rect height=\"141.864407\" width=\"141.864407\" x=\"688.149153\" y=\"7.2\"/>\r\n  </clipPath>\r\n  <clipPath id=\"pf78e0fac19\">\r\n   <rect height=\"141.864407\" width=\"141.864407\" x=\"858.386441\" y=\"7.2\"/>\r\n  </clipPath>\r\n  <clipPath id=\"p65df57096b\">\r\n   <rect height=\"141.864407\" width=\"141.864407\" x=\"1028.623729\" y=\"7.2\"/>\r\n  </clipPath>\r\n  <clipPath id=\"p93c4604b5d\">\r\n   <rect height=\"141.864407\" width=\"141.864407\" x=\"1198.861017\" y=\"7.2\"/>\r\n  </clipPath>\r\n  <clipPath id=\"p09c2113599\">\r\n   <rect height=\"141.864407\" width=\"141.864407\" x=\"1369.098305\" y=\"7.2\"/>\r\n  </clipPath>\r\n  <clipPath id=\"pab7a004602\">\r\n   <rect height=\"141.864407\" width=\"141.864407\" x=\"1539.335593\" y=\"7.2\"/>\r\n  </clipPath>\r\n </defs>\r\n</svg>\r\n",
      "image/png": "[encoded data removed]"
     },
     "metadata": {
      "needs_background": "light"
     }
    }
   ],
   "source": [
    "# TODO: Visualize some augmented images!\n",
    "# hint: you can create new datasets and loaders to accomplish this\n",
    "\n",
    "# Based on the visualizations, should we keep all the augmentations?\n",
    "\n",
    "tfs = transforms.Compose([\n",
    "    transforms.ColorJitter(hue=.20, saturation=.20),\n",
    "    transforms.RandomHorizontalFlip(),\n",
    "    transforms.RandomVerticalFlip(),\n",
    "    transforms.RandomRotation(10, resample=PIL.Image.BILINEAR),\n",
    "])\n",
    "\n",
    "data_aug_vis = dset.SVHN('./', \n",
    "                       transform=tfs\n",
    "                      )\n",
    "\n",
    "plt.figure(figsize=(30, 3))\n",
    "\n",
    "for i, (x, y) in enumerate(data_aug_vis):\n",
    "    if i == 10:\n",
    "        break\n",
    "    plt.subplot(1, 10, i+1)\n",
    "    plt.grid(False)\n",
    "    plt.imshow(x)\n",
    "    plt.axis('off')"
   ]
  },
  {
   "cell_type": "markdown",
   "metadata": {
    "colab_type": "text",
    "id": "o2LrmsYHoguB"
   },
   "source": [
    "Все ли агментации одинаково полезны на этом наборе данных? Могут ли быть среди них те, которые собьют модель с толку?\n",
    "\n",
    "Выберите из них только корректные"
   ]
  },
  {
   "cell_type": "code",
   "execution_count": 10,
   "metadata": {
    "colab": {},
    "colab_type": "code",
    "id": "evro9ksXGs9u"
   },
   "outputs": [],
   "source": [
    "# TODO: \n",
    "tfs = transforms.Compose([\n",
    "    transforms.ColorJitter(hue=.40, saturation=.40),\n",
    "    transforms.RandomVerticalFlip(),\n",
    "    transforms.RandomRotation(30, resample=PIL.Image.BILINEAR),\n",
    "    transforms.ToTensor(),\n",
    "    transforms.Normalize(mean=[0.43,0.44,0.47],\n",
    "                       std=[0.20,0.20,0.20])                           \n",
    "])\n",
    "\n",
    "#  create new instances of loaders with the augmentations you chose\n",
    "data_aug_vis = dset.SVHN('./', \n",
    "                       transform=tfs\n",
    "                      )\n",
    "train_aug_loader = torch.utils.data.DataLoader(data_aug_train, batch_size=batch_size, \n",
    "                                           sampler=train_sampler)"
   ]
  },
  {
   "cell_type": "code",
   "execution_count": 11,
   "metadata": {
    "colab": {},
    "colab_type": "code",
    "id": "PeO6Zw0DHqPR"
   },
   "outputs": [
    {
     "output_type": "stream",
     "name": "stdout",
     "text": "Average loss: 2.070750, Train accuracy: 0.264410, Val accuracy: 0.425636\nAverage loss: 1.767151, Train accuracy: 0.359895, Val accuracy: 0.422019\nAverage loss: 1.665839, Train accuracy: 0.395301, Val accuracy: 0.489045\nAverage loss: 1.598930, Train accuracy: 0.426970, Val accuracy: 0.492731\nAverage loss: 1.555274, Train accuracy: 0.445057, Val accuracy: 0.450959\n"
    }
   ],
   "source": [
    "# Finally, let's train with augmentations!\n",
    "\n",
    "# Note we shouldn't use augmentations on validation\n",
    "\n",
    "loss_history, train_history, val_history = train_model(nn_model, train_aug_loader, val_loader, loss, optimizer, 5)"
   ]
  },
  {
   "cell_type": "markdown",
   "metadata": {
    "colab_type": "text",
    "id": "r0bcioK6JBDK"
   },
   "source": [
    "# LeNet\n",
    "Попробуем имплементировать классическую архитектуру сверточной нейронной сети, предложенную Яном ЛеКуном в 1998 году. В свое время она достигла впечатляющих результатов на MNIST, посмотрим как она справится с SVHN?\n",
    "Она описана в статье [\"Gradient Based Learning Applied to Document Recognition\"](http://yann.lecun.com/exdb/publis/pdf/lecun-01a.pdf), попробуйте прочитать ключевые части и имплементировать предложенную архитетуру на PyTorch.\n",
    "\n",
    "Реализовывать слои и функцию ошибки LeNet, которых нет в PyTorch, **не нужно** - просто возьмите их размеры и переведите в уже известные нам Convolutional, Pooling и Fully Connected layers.\n",
    "\n",
    "Если в статье не очень понятно, можно просто погуглить LeNet и разобраться в деталях :)"
   ]
  },
  {
   "cell_type": "code",
   "execution_count": 12,
   "metadata": {
    "colab": {},
    "colab_type": "code",
    "id": "ieEzZUglJAUB"
   },
   "outputs": [],
   "source": [
    "# TODO: Implement LeNet-like architecture for SVHN task\n",
    "lenet_model = nn.Sequential(\n",
    "    nn.Conv2d(3, 6, 5, padding=1),\n",
    "    nn.ReLU(inplace=True),\n",
    "    nn.MaxPool2d(2, stride=2),\n",
    "    nn.Conv2d(6, 16, 5),\n",
    "    nn.ReLU(inplace=True),\n",
    "    nn.MaxPool2d(2, stride=2),\n",
    "    nn.Conv2d(16, 120, 5),\n",
    "    nn.ReLU(inplace=True),\n",
    "    Flattener(),\n",
    "    nn.Linear(120, 84),\n",
    "    nn.ReLU(inplace=True),\n",
    "    nn.Linear(84, 10)\n",
    "          )\n",
    "\n",
    "lenet_model.type(torch.cuda.FloatTensor)\n",
    "lenet_model.to(device)\n",
    "\n",
    "loss = nn.CrossEntropyLoss().type(torch.cuda.FloatTensor)\n",
    "optimizer = optim.SGD(lenet_model.parameters(), lr=1e-1, weight_decay=1e-4)"
   ]
  },
  {
   "cell_type": "code",
   "execution_count": 13,
   "metadata": {
    "colab": {},
    "colab_type": "code",
    "id": "WMmaPfdeKk9H"
   },
   "outputs": [
    {
     "output_type": "stream",
     "name": "stdout",
     "text": "Average loss: 2.143025, Train accuracy: 0.228117, Val accuracy: 0.385503\nAverage loss: 1.548213, Train accuracy: 0.457888, Val accuracy: 0.548631\nAverage loss: 1.254711, Train accuracy: 0.569174, Val accuracy: 0.633131\nAverage loss: 1.127098, Train accuracy: 0.613777, Val accuracy: 0.650877\nAverage loss: 1.054960, Train accuracy: 0.640173, Val accuracy: 0.661184\nAverage loss: 1.008948, Train accuracy: 0.654728, Val accuracy: 0.669374\nAverage loss: 0.974523, Train accuracy: 0.663840, Val accuracy: 0.693605\nAverage loss: 0.946325, Train accuracy: 0.677456, Val accuracy: 0.702614\nAverage loss: 0.929677, Train accuracy: 0.681671, Val accuracy: 0.695243\nAverage loss: 0.912091, Train accuracy: 0.686414, Val accuracy: 0.688008\n"
    }
   ],
   "source": [
    "# Let's train it!\n",
    "loss_history, train_history, val_history = train_model(lenet_model, train_aug_loader, val_loader, loss, optimizer, 10)"
   ]
  },
  {
   "cell_type": "markdown",
   "metadata": {
    "colab_type": "text",
    "id": "u_O9qiYySvuj"
   },
   "source": [
    "# Подбор гиперпараметров"
   ]
  },
  {
   "cell_type": "code",
   "execution_count": 18,
   "metadata": {},
   "outputs": [],
   "source": [
    "def train_model(model, train_loader, val_loader, loss, optimizer, num_epochs, scheduler=None):    \n",
    "    loss_history = []\n",
    "    train_history = []\n",
    "    val_history = []\n",
    "    for epoch in range(num_epochs):\n",
    "        model.train() # Enter train mode\n",
    "        \n",
    "        loss_accum = 0\n",
    "        correct_samples = 0\n",
    "        total_samples = 0\n",
    "        for i_step, (x, y) in enumerate(train_loader):\n",
    "          \n",
    "            x_gpu = x.to(device)\n",
    "            y_gpu = y.to(device)\n",
    "            prediction = model(x_gpu)    \n",
    "            loss_value = loss(prediction, y_gpu)\n",
    "            optimizer.zero_grad()\n",
    "            loss_value.backward()\n",
    "            optimizer.step()\n",
    "            \n",
    "            _, indices = torch.max(prediction, 1)\n",
    "            correct_samples += torch.sum(indices == y_gpu)\n",
    "            total_samples += y.shape[0]\n",
    "            \n",
    "            loss_accum += loss_value\n",
    "\n",
    "        ave_loss = loss_accum / i_step\n",
    "        train_accuracy = float(correct_samples) / total_samples\n",
    "        val_accuracy = compute_accuracy(model, val_loader)\n",
    "        \n",
    "        loss_history.append(float(ave_loss))\n",
    "        train_history.append(train_accuracy)\n",
    "        val_history.append(val_accuracy)\n",
    "\n",
    "        if scheduler is not None:\n",
    "            if isinstance(scheduler, optim.lr_scheduler.ReduceLROnPlateau):\n",
    "                scheduler.step(val_accuracy)\n",
    "            else:\n",
    "                scheduler.step()\n",
    "        \n",
    "        print(\"Average loss: %f, Train accuracy: %f, Val accuracy: %f\" % (ave_loss, train_accuracy, val_accuracy))\n",
    "        \n",
    "    return loss_history, train_history, val_history"
   ]
  },
  {
   "cell_type": "code",
   "execution_count": 20,
   "metadata": {
    "colab": {},
    "colab_type": "code",
    "id": "i6mhfdQ9K-N3"
   },
   "outputs": [
    {
     "output_type": "stream",
     "name": "stdout",
     "text": "Learning rate: 1.0, number of epochs: 1, regularization_strength: 1e-05\nAverage loss: 2.206642, Train accuracy: 0.208306, Val accuracy: 0.233022\nAverage loss: 2.160517, Train accuracy: 0.235215, Val accuracy: 0.226879\nAverage loss: 2.150037, Train accuracy: 0.238235, Val accuracy: 0.250427\nAverage loss: 2.185351, Train accuracy: 0.226803, Val accuracy: 0.221009\nAverage loss: 2.208164, Train accuracy: 0.218851, Val accuracy: 0.204969\nAverage loss: 2.232420, Train accuracy: 0.201703, Val accuracy: 0.197188\nEpoch     7: reducing learning rate of group 0 to 1.0000e-01.\nAverage loss: 2.239547, Train accuracy: 0.192915, Val accuracy: 0.197529\nAverage loss: 2.226173, Train accuracy: 0.200764, Val accuracy: 0.200532\nAverage loss: 2.221990, Train accuracy: 0.202778, Val accuracy: 0.202717\nAverage loss: 2.218170, Train accuracy: 0.204911, Val accuracy: 0.204491\nLearning rate: 0.0001, number of epochs: 50, regularization_strength: 0.001\nAverage loss: 2.302574, Train accuracy: 0.069720, Val accuracy: 0.068937\nAverage loss: 2.300498, Train accuracy: 0.073508, Val accuracy: 0.076718\nAverage loss: 2.298502, Train accuracy: 0.086032, Val accuracy: 0.107501\nAverage loss: 2.296598, Train accuracy: 0.130789, Val accuracy: 0.162924\nAverage loss: 2.294762, Train accuracy: 0.173907, Val accuracy: 0.180943\nAverage loss: 2.292927, Train accuracy: 0.186210, Val accuracy: 0.186950\nAverage loss: 2.291136, Train accuracy: 0.189127, Val accuracy: 0.188110\nAverage loss: 2.289445, Train accuracy: 0.189469, Val accuracy: 0.188110\nAverage loss: 2.287745, Train accuracy: 0.189486, Val accuracy: 0.188110\nAverage loss: 2.286122, Train accuracy: 0.189486, Val accuracy: 0.188110\nLearning rate: 1.0, number of epochs: 5, regularization_strength: 0.001\nAverage loss: 2.233540, Train accuracy: 0.193018, Val accuracy: 0.207494\nAverage loss: 2.199403, Train accuracy: 0.209501, Val accuracy: 0.222101\nAverage loss: 2.208040, Train accuracy: 0.212077, Val accuracy: 0.188110\nAverage loss: 2.242717, Train accuracy: 0.188360, Val accuracy: 0.188110\nAverage loss: 2.242362, Train accuracy: 0.188240, Val accuracy: 0.188110\nEpoch     6: reducing learning rate of group 0 to 1.0000e-01.\nAverage loss: 2.241772, Train accuracy: 0.188940, Val accuracy: 0.188110\nAverage loss: 2.234346, Train accuracy: 0.189486, Val accuracy: 0.188247\nAverage loss: 2.178207, Train accuracy: 0.206907, Val accuracy: 0.262712\nAverage loss: 2.066173, Train accuracy: 0.259769, Val accuracy: 0.278343\nAverage loss: 1.992038, Train accuracy: 0.294321, Val accuracy: 0.325302\nLearning rate: 1.0, number of epochs: 15, regularization_strength: 0.001\nAverage loss: 2.184871, Train accuracy: 0.220967, Val accuracy: 0.242441\nAverage loss: 2.238683, Train accuracy: 0.192455, Val accuracy: 0.188110\nAverage loss: 2.242344, Train accuracy: 0.188547, Val accuracy: 0.188110\nAverage loss: 2.242886, Train accuracy: 0.188530, Val accuracy: 0.188110\nEpoch     5: reducing learning rate of group 0 to 1.0000e-01.\nAverage loss: 2.242053, Train accuracy: 0.188240, Val accuracy: 0.188042\nAverage loss: 2.236159, Train accuracy: 0.189486, Val accuracy: 0.188178\nAverage loss: 2.204996, Train accuracy: 0.200474, Val accuracy: 0.213910\nAverage loss: 2.192948, Train accuracy: 0.215626, Val accuracy: 0.216026\nAverage loss: 2.120139, Train accuracy: 0.245692, Val accuracy: 0.281073\nAverage loss: 2.046635, Train accuracy: 0.271406, Val accuracy: 0.321343\nLearning rate: 0.01, number of epochs: 5, regularization_strength: 1e-05\nAverage loss: 2.251762, Train accuracy: 0.187336, Val accuracy: 0.188110\nAverage loss: 2.238002, Train accuracy: 0.189486, Val accuracy: 0.188110\nAverage loss: 2.236269, Train accuracy: 0.189486, Val accuracy: 0.188110\nAverage loss: 2.232937, Train accuracy: 0.189537, Val accuracy: 0.188110\nAverage loss: 2.218282, Train accuracy: 0.191414, Val accuracy: 0.204082\nAverage loss: 2.133601, Train accuracy: 0.230147, Val accuracy: 0.282984\nAverage loss: 1.997636, Train accuracy: 0.285363, Val accuracy: 0.336974\nAverage loss: 1.852170, Train accuracy: 0.345442, Val accuracy: 0.393011\nAverage loss: 1.685966, Train accuracy: 0.401921, Val accuracy: 0.447956\nAverage loss: 1.564267, Train accuracy: 0.452923, Val accuracy: 0.482356\nLearning rate: 0.01, number of epochs: 20, regularization_strength: 0.0001\nAverage loss: 2.254081, Train accuracy: 0.187489, Val accuracy: 0.188110\nAverage loss: 2.238202, Train accuracy: 0.189486, Val accuracy: 0.188110\nAverage loss: 2.236434, Train accuracy: 0.189486, Val accuracy: 0.188110\nAverage loss: 2.233133, Train accuracy: 0.189503, Val accuracy: 0.188110\nAverage loss: 2.223787, Train accuracy: 0.190219, Val accuracy: 0.192956\nAverage loss: 2.176913, Train accuracy: 0.212743, Val accuracy: 0.266876\nAverage loss: 2.042359, Train accuracy: 0.281439, Val accuracy: 0.333697\nAverage loss: 1.870412, Train accuracy: 0.346432, Val accuracy: 0.398062\nAverage loss: 1.735613, Train accuracy: 0.394977, Val accuracy: 0.444270\nAverage loss: 1.624555, Train accuracy: 0.436525, Val accuracy: 0.460856\nLearning rate: 0.01, number of epochs: 50, regularization_strength: 1e-05\nAverage loss: 2.252083, Train accuracy: 0.178463, Val accuracy: 0.188110\nAverage loss: 2.238397, Train accuracy: 0.189486, Val accuracy: 0.188110\nAverage loss: 2.236127, Train accuracy: 0.189486, Val accuracy: 0.188110\nAverage loss: 2.230780, Train accuracy: 0.189503, Val accuracy: 0.188110\nAverage loss: 2.211476, Train accuracy: 0.193496, Val accuracy: 0.216163\nAverage loss: 2.119132, Train accuracy: 0.246255, Val accuracy: 0.309945\nAverage loss: 1.930567, Train accuracy: 0.320718, Val accuracy: 0.372739\nAverage loss: 1.746313, Train accuracy: 0.390591, Val accuracy: 0.438400\nAverage loss: 1.616272, Train accuracy: 0.435058, Val accuracy: 0.508907\nAverage loss: 1.518701, Train accuracy: 0.471846, Val accuracy: 0.517985\nLearning rate: 0.0001, number of epochs: 5, regularization_strength: 1e-07\nAverage loss: 2.317644, Train accuracy: 0.092977, Val accuracy: 0.091257\nAverage loss: 2.315007, Train accuracy: 0.093130, Val accuracy: 0.091803\nAverage loss: 2.312450, Train accuracy: 0.094120, Val accuracy: 0.091803\nAverage loss: 2.309897, Train accuracy: 0.094632, Val accuracy: 0.091939\nAverage loss: 2.307348, Train accuracy: 0.097976, Val accuracy: 0.092895\nAverage loss: 2.304839, Train accuracy: 0.109938, Val accuracy: 0.104361\nAverage loss: 2.302312, Train accuracy: 0.133041, Val accuracy: 0.120401\nAverage loss: 2.299880, Train accuracy: 0.163174, Val accuracy: 0.154665\nAverage loss: 2.297357, Train accuracy: 0.184367, Val accuracy: 0.182240\nAverage loss: 2.294882, Train accuracy: 0.189298, Val accuracy: 0.188042\nLearning rate: 0.0001, number of epochs: 5, regularization_strength: 1e-07\nAverage loss: 2.305877, Train accuracy: 0.144524, Val accuracy: 0.144359\nAverage loss: 2.303779, Train accuracy: 0.144524, Val accuracy: 0.144359\nAverage loss: 2.301629, Train accuracy: 0.144524, Val accuracy: 0.144359\nAverage loss: 2.299586, Train accuracy: 0.144524, Val accuracy: 0.144359\nEpoch     5: reducing learning rate of group 0 to 1.0000e-05.\nAverage loss: 2.297568, Train accuracy: 0.144524, Val accuracy: 0.144359\nAverage loss: 2.296449, Train accuracy: 0.144524, Val accuracy: 0.144359\nAverage loss: 2.296263, Train accuracy: 0.144524, Val accuracy: 0.144359\nAverage loss: 2.296002, Train accuracy: 0.144524, Val accuracy: 0.144359\nEpoch     9: reducing learning rate of group 0 to 1.0000e-06.\nAverage loss: 2.295821, Train accuracy: 0.144524, Val accuracy: 0.144359\nAverage loss: 2.295712, Train accuracy: 0.144524, Val accuracy: 0.144359\nLearning rate: 0.0001, number of epochs: 15, regularization_strength: 0.0001\nAverage loss: 2.302520, Train accuracy: 0.139576, Val accuracy: 0.145519\nAverage loss: 2.300386, Train accuracy: 0.141402, Val accuracy: 0.145451\nAverage loss: 2.298289, Train accuracy: 0.143449, Val accuracy: 0.145178\nAverage loss: 2.296444, Train accuracy: 0.144098, Val accuracy: 0.144222\nEpoch     5: reducing learning rate of group 0 to 1.0000e-05.\nAverage loss: 2.294439, Train accuracy: 0.145053, Val accuracy: 0.144222\nAverage loss: 2.293510, Train accuracy: 0.145156, Val accuracy: 0.144290\nAverage loss: 2.293318, Train accuracy: 0.145429, Val accuracy: 0.144086\nAverage loss: 2.293123, Train accuracy: 0.145497, Val accuracy: 0.144086\nEpoch     9: reducing learning rate of group 0 to 1.0000e-06.\nAverage loss: 2.292919, Train accuracy: 0.145463, Val accuracy: 0.144427\nAverage loss: 2.292878, Train accuracy: 0.144490, Val accuracy: 0.144427\n"
    }
   ],
   "source": [
    "# The key hyperparameters we're going to tune are learning speed, annealing rate and regularization\n",
    "# We also encourage you to try different optimizers as well\n",
    "\n",
    "Hyperparams = namedtuple(\"Hyperparams\", ['learning_rate', 'anneal_epochs', 'reg'])\n",
    "RunResult = namedtuple(\"RunResult\", ['model', 'train_history', 'val_history', 'final_val_accuracy'])\n",
    "\n",
    "learning_rates = [1e0, 1e-1, 1e-2, 1e-3, 1e-4]\n",
    "anneal_coeff = 0.2\n",
    "anneal_epochs = [1, 5, 10, 15, 20, 50]\n",
    "regs = [1e-3, 1e-4, 1e-5, 1e-7]\n",
    "\n",
    "batch_size = 64\n",
    "epoch_num = 10\n",
    "\n",
    "# Record all the runs here\n",
    "# Key should be Hyperparams and values should be RunResult\n",
    "run_record = {} \n",
    "\n",
    "# Use grid search or random search and record all runs in run_record dictionnary \n",
    "# Important: perform search in logarithmic space!\n",
    "\n",
    "import random\n",
    "\n",
    "for i in range(10):\n",
    "    learning_rate = random.choice(learning_rates)\n",
    "    epoch = random.choice(anneal_epochs)\n",
    "    reg = random.choice(regs)\n",
    "    print(\"Learning rate: {}, number of epochs: {}, regularization_strength: {}\".format(learning_rate, epoch, reg))\n",
    "    lenet_model = nn.Sequential(\n",
    "      nn.Conv2d(3, 6, 5, padding=1),\n",
    "      nn.ReLU(inplace=True),\n",
    "      nn.MaxPool2d(2, stride=2),\n",
    "      nn.Conv2d(6, 16, 5),\n",
    "      nn.ReLU(inplace=True),\n",
    "      nn.MaxPool2d(2, stride=2),\n",
    "      Flattener(),\n",
    "      nn.Linear(400, 120),\n",
    "      nn.ReLU(inplace=True),\n",
    "      nn.Linear(120, 84),\n",
    "      nn.ReLU(inplace=True),\n",
    "      nn.Linear(84, 10)\n",
    "          )\n",
    "\n",
    "    lenet_model.type(torch.cuda.FloatTensor)\n",
    "    lenet_model.to(device)\n",
    "    params = [learning_rate, epoch, reg]\n",
    "    optimizer = optim.SGD(lenet_model.parameters(), learning_rate, reg)\n",
    "    scheduler = optim.lr_scheduler.ReduceLROnPlateau( optimizer=optimizer, mode='max', verbose=True, patience=3)\n",
    "    _, train_history, val_history = train_model(lenet_model, train_aug_loader, val_loader, loss, optimizer, epoch_num, scheduler)\n",
    "    run_record[Hyperparams(learning_rate, epoch, reg)] = RunResult(lenet_model, train_history, val_history, val_history[-1])"
   ]
  },
  {
   "cell_type": "code",
   "execution_count": 21,
   "metadata": {
    "colab": {
     "base_uri": "https://localhost:8080/",
     "height": 34
    },
    "colab_type": "code",
    "id": "Y6xExdw8JB1l",
    "outputId": "a9ad86f8-3e29-45cc-d33f-e6170018a4ed"
   },
   "outputs": [
    {
     "output_type": "stream",
     "name": "stdout",
     "text": "Best validation accuracy: 0.52, best hyperparams: Hyperparams(learning_rate=0.01, anneal_epochs=50, reg=1e-05)\n"
    }
   ],
   "source": [
    "best_val_accuracy = None\n",
    "best_hyperparams = None\n",
    "best_run = None\n",
    "\n",
    "for hyperparams, run_result in run_record.items():\n",
    "    if best_val_accuracy is None or best_val_accuracy < run_result.final_val_accuracy:\n",
    "        best_val_accuracy = run_result.final_val_accuracy\n",
    "        best_hyperparams = hyperparams\n",
    "        best_run = run_result\n",
    "        \n",
    "print(\"Best validation accuracy: %4.2f, best hyperparams: %s\" % (best_val_accuracy, best_hyperparams))\n",
    "        "
   ]
  },
  {
   "cell_type": "markdown",
   "metadata": {
    "colab_type": "text",
    "id": "LOmsR0uVgtgf"
   },
   "source": [
    "# Свободное упражнение - догоним и перегоним LeNet!\n",
    "\n",
    "Попробуйте найти архитектуру и настройки тренировки, чтобы выступить лучше наших бейзлайнов.\n",
    "\n",
    "Что можно и нужно попробовать:\n",
    "- BatchNormalization (для convolution layers он в PyTorch называется [batchnorm2d](https://pytorch.org/docs/stable/nn.html#batchnorm2d))\n",
    "- Изменить количество слоев и их толщину\n",
    "- Изменять количество эпох тренировки\n",
    "- Попробовать и другие агментации"
   ]
  },
  {
   "cell_type": "code",
   "execution_count": 46,
   "metadata": {
    "colab": {},
    "colab_type": "code",
    "id": "tSVhD747icoc"
   },
   "outputs": [
    {
     "output_type": "stream",
     "name": "stdout",
     "text": "Average loss: 1.728201, Train accuracy: 0.377982, Val accuracy: 0.551771\nAverage loss: 1.237793, Train accuracy: 0.568099, Val accuracy: 0.655177\nAverage loss: 1.067701, Train accuracy: 0.633655, Val accuracy: 0.691625\nAverage loss: 0.978127, Train accuracy: 0.663226, Val accuracy: 0.707870\nAverage loss: 0.912514, Train accuracy: 0.688445, Val accuracy: 0.714832\nAverage loss: 0.870917, Train accuracy: 0.702078, Val accuracy: 0.734899\nAverage loss: 0.841830, Train accuracy: 0.712470, Val accuracy: 0.745751\nAverage loss: 0.813700, Train accuracy: 0.720387, Val accuracy: 0.751280\nAverage loss: 0.794415, Train accuracy: 0.725182, Val accuracy: 0.763429\nAverage loss: 0.781372, Train accuracy: 0.731307, Val accuracy: 0.757150\nAverage loss: 0.762282, Train accuracy: 0.736495, Val accuracy: 0.773258\nAverage loss: 0.748155, Train accuracy: 0.743064, Val accuracy: 0.761996\nAverage loss: 0.732950, Train accuracy: 0.747961, Val accuracy: 0.785953\nAverage loss: 0.725129, Train accuracy: 0.750452, Val accuracy: 0.766910\nAverage loss: 0.715345, Train accuracy: 0.750862, Val accuracy: 0.766637\nAverage loss: 0.709378, Train accuracy: 0.753319, Val accuracy: 0.769982\nAverage loss: 0.702442, Train accuracy: 0.755673, Val accuracy: 0.781312\nAverage loss: 0.697841, Train accuracy: 0.758745, Val accuracy: 0.777285\nAverage loss: 0.684392, Train accuracy: 0.761236, Val accuracy: 0.789639\nAverage loss: 0.683533, Train accuracy: 0.763676, Val accuracy: 0.789161\nAverage loss: 0.678493, Train accuracy: 0.764870, Val accuracy: 0.777285\nAverage loss: 0.670681, Train accuracy: 0.766150, Val accuracy: 0.783018\nAverage loss: 0.667383, Train accuracy: 0.770160, Val accuracy: 0.796191\nAverage loss: 0.660368, Train accuracy: 0.769768, Val accuracy: 0.793802\nAverage loss: 0.660356, Train accuracy: 0.771798, Val accuracy: 0.796601\nAverage loss: 0.653067, Train accuracy: 0.774085, Val accuracy: 0.774418\nAverage loss: 0.653169, Train accuracy: 0.772737, Val accuracy: 0.780629\nAverage loss: 0.647491, Train accuracy: 0.772327, Val accuracy: 0.786704\nAverage loss: 0.643903, Train accuracy: 0.775364, Val accuracy: 0.791550\nAverage loss: 0.643158, Train accuracy: 0.778436, Val accuracy: 0.801788\nAverage loss: 0.639002, Train accuracy: 0.776968, Val accuracy: 0.792642\nAverage loss: 0.637641, Train accuracy: 0.778265, Val accuracy: 0.798171\nAverage loss: 0.634322, Train accuracy: 0.779784, Val accuracy: 0.788752\nAverage loss: 0.629349, Train accuracy: 0.781183, Val accuracy: 0.787591\nAverage loss: 0.626724, Train accuracy: 0.781217, Val accuracy: 0.794212\nAverage loss: 0.626885, Train accuracy: 0.783145, Val accuracy: 0.803358\nAverage loss: 0.624904, Train accuracy: 0.783964, Val accuracy: 0.800014\nAverage loss: 0.620751, Train accuracy: 0.785039, Val accuracy: 0.792028\nAverage loss: 0.620089, Train accuracy: 0.785107, Val accuracy: 0.808409\nAverage loss: 0.619161, Train accuracy: 0.783640, Val accuracy: 0.794144\nAverage loss: 0.617649, Train accuracy: 0.786165, Val accuracy: 0.807795\nAverage loss: 0.606551, Train accuracy: 0.788281, Val accuracy: 0.805201\nAverage loss: 0.610906, Train accuracy: 0.787377, Val accuracy: 0.803699\nAverage loss: 0.610995, Train accuracy: 0.786694, Val accuracy: 0.808819\nAverage loss: 0.610529, Train accuracy: 0.787001, Val accuracy: 0.804518\nAverage loss: 0.603012, Train accuracy: 0.789168, Val accuracy: 0.807249\nAverage loss: 0.603693, Train accuracy: 0.788947, Val accuracy: 0.798785\nAverage loss: 0.600809, Train accuracy: 0.790056, Val accuracy: 0.802880\nAverage loss: 0.600673, Train accuracy: 0.791011, Val accuracy: 0.798376\nAverage loss: 0.601342, Train accuracy: 0.789220, Val accuracy: 0.815371\nAverage loss: 0.599190, Train accuracy: 0.792598, Val accuracy: 0.797420\nAverage loss: 0.596507, Train accuracy: 0.790738, Val accuracy: 0.810866\nAverage loss: 0.595439, Train accuracy: 0.791916, Val accuracy: 0.803290\nAverage loss: 0.596760, Train accuracy: 0.791011, Val accuracy: 0.803495\nAverage loss: 0.593492, Train accuracy: 0.793929, Val accuracy: 0.794212\nEpoch    56: reducing learning rate of group 0 to 1.0000e-02.\nAverage loss: 0.593205, Train accuracy: 0.793178, Val accuracy: 0.809638\nAverage loss: 0.556446, Train accuracy: 0.805122, Val accuracy: 0.813733\nAverage loss: 0.541282, Train accuracy: 0.810480, Val accuracy: 0.820422\nAverage loss: 0.530634, Train accuracy: 0.814166, Val accuracy: 0.819808\nAverage loss: 0.527450, Train accuracy: 0.814388, Val accuracy: 0.824108\n"
    }
   ],
   "source": [
    "best_model = nn.Sequential(\n",
    "    nn.Conv2d(3, 30, 5, padding=1),\n",
    "    nn.ReLU(inplace=True),\n",
    "    nn.BatchNorm2d(30),\n",
    "    nn.MaxPool2d(2, stride=2),\n",
    "    nn.Conv2d(30, 60, 5),\n",
    "    nn.ReLU(inplace=True),\n",
    "    nn.BatchNorm2d(60),\n",
    "    nn.MaxPool2d(2, stride=2),\n",
    "    nn.Conv2d(60, 120, 5),\n",
    "    nn.ReLU(inplace=True),\n",
    "    Flattener(),\n",
    "    nn.Linear(120, 90),\n",
    "    nn.ReLU(inplace=True),\n",
    "    nn.Dropout(),\n",
    "    nn.ReLU(inplace=True),\n",
    "    nn.Linear(90, 10)\n",
    "          )\n",
    "\n",
    "best_model.type(torch.cuda.FloatTensor)\n",
    "best_model.to(device)\n",
    "\n",
    "loss = nn.CrossEntropyLoss().type(torch.cuda.FloatTensor)\n",
    "optimizer = optim.SGD(best_model.parameters(), lr=1e-1, weight_decay=1e-4)\n",
    "scheduler = optim.lr_scheduler.ReduceLROnPlateau( optimizer, 'max', verbose=True, patience=5)\n",
    "loss_history, train_history, val_history = train_model(best_model, train_aug_loader, val_loader, loss, optimizer, 60, scheduler=scheduler)\n",
    ""
   ]
  },
  {
   "cell_type": "markdown",
   "metadata": {
    "colab_type": "text",
    "id": "ubeKgBcnhx7N"
   },
   "source": [
    "# Финальный аккорд - проверим лучшую модель на test set\n",
    "\n",
    "В качестве разнообразия - напишите код для прогона модели на test set вы.\n",
    "\n",
    "В результате вы должны натренировать модель, которая покажет более **90%** точности на test set.  \n",
    "Как водится, лучший результат в группе получит дополнительные баллы!"
   ]
  },
  {
   "cell_type": "code",
   "execution_count": 47,
   "metadata": {
    "colab": {},
    "colab_type": "code",
    "id": "EIqM1kdeh-hd"
   },
   "outputs": [
    {
     "output_type": "stream",
     "name": "stdout",
     "text": "Final test accuracy:0.8241075694491844\n"
    }
   ],
   "source": [
    "# TODO Write the code to compute accuracy on test set\n",
    "final_test_accuracy = 0.0\n",
    "final_test_accuracy = compute_accuracy(best_model, val_loader)\n",
    "print(\"Final test accuracy: \", final_test_accuracy)"
   ]
  },
  {
   "cell_type": "code",
   "execution_count": null,
   "metadata": {
    "colab": {},
    "colab_type": "code",
    "id": "BfH6qip6kVX_"
   },
   "outputs": [],
   "source": []
  }
 ],
 "metadata": {
  "accelerator": "GPU",
  "colab": {
   "collapsed_sections": [],
   "name": "PyTorch_CNN.ipynb",
   "provenance": [],
   "version": "0.3.2"
  },
  "kernelspec": {
   "display_name": "Python 3",
   "language": "python",
   "name": "python3"
  },
  "language_info": {
   "codemirror_mode": {
    "name": "ipython",
    "version": 3
   },
   "file_extension": ".py",
   "mimetype": "text/x-python",
   "name": "python",
   "nbconvert_exporter": "python",
   "pygments_lexer": "ipython3",
   "version": "3.7.4-final"
  }
 },
 "nbformat": 4,
 "nbformat_minor": 1
}